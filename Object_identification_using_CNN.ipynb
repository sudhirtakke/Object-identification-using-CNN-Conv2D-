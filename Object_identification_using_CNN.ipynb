{
  "nbformat": 4,
  "nbformat_minor": 0,
  "metadata": {
    "kernelspec": {
      "name": "python3",
      "display_name": "Python 3"
    },
    "language_info": {
      "codemirror_mode": {
        "name": "ipython",
        "version": 3
      },
      "file_extension": ".py",
      "mimetype": "text/x-python",
      "name": "python",
      "nbconvert_exporter": "python",
      "pygments_lexer": "ipython3",
      "version": "3.6.5"
    },
    "colab": {
      "name": "Object identification using CNN.ipynb",
      "provenance": [],
      "collapsed_sections": [],
      "toc_visible": true,
      "include_colab_link": true
    },
    "accelerator": "GPU"
  },
  "cells": [
    {
      "cell_type": "markdown",
      "metadata": {
        "id": "view-in-github",
        "colab_type": "text"
      },
      "source": [
        "<a href=\"https://colab.research.google.com/github/sudhirtakke/Object-identification-using-CNN-Conv2D-/blob/main/Object_identification_using_CNN.ipynb\" target=\"_parent\"><img src=\"https://colab.research.google.com/assets/colab-badge.svg\" alt=\"Open In Colab\"/></a>"
      ]
    },
    {
      "cell_type": "markdown",
      "metadata": {
        "id": "2DuWQB5ziXe4"
      },
      "source": [
        "# Object identification using CNN "
      ]
    },
    {
      "cell_type": "code",
      "metadata": {
        "id": "SwK0JKTSPs8n"
      },
      "source": [
        "import numpy as np\n",
        "import pandas as pd"
      ],
      "execution_count": null,
      "outputs": []
    },
    {
      "cell_type": "code",
      "metadata": {
        "id": "uN5aSmWwPs8t",
        "colab": {
          "base_uri": "https://localhost:8080/",
          "height": 253
        },
        "outputId": "0e552332-cd8d-4f61-ced8-32948deca780"
      },
      "source": [
        "df = pd.read_csv('https://raw.githubusercontent.com/insaid2018/DeepLearning/master/Data/cat_dog_panda.csv')\n",
        "df.head()"
      ],
      "execution_count": null,
      "outputs": [
        {
          "output_type": "execute_result",
          "data": {
            "text/html": [
              "<div>\n",
              "<style scoped>\n",
              "    .dataframe tbody tr th:only-of-type {\n",
              "        vertical-align: middle;\n",
              "    }\n",
              "\n",
              "    .dataframe tbody tr th {\n",
              "        vertical-align: top;\n",
              "    }\n",
              "\n",
              "    .dataframe thead th {\n",
              "        text-align: right;\n",
              "    }\n",
              "</style>\n",
              "<table border=\"1\" class=\"dataframe\">\n",
              "  <thead>\n",
              "    <tr style=\"text-align: right;\">\n",
              "      <th></th>\n",
              "      <th>pixel1</th>\n",
              "      <th>pixel2</th>\n",
              "      <th>pixel3</th>\n",
              "      <th>pixel4</th>\n",
              "      <th>pixel5</th>\n",
              "      <th>pixel6</th>\n",
              "      <th>pixel7</th>\n",
              "      <th>pixel8</th>\n",
              "      <th>pixel9</th>\n",
              "      <th>pixel10</th>\n",
              "      <th>pixel11</th>\n",
              "      <th>pixel12</th>\n",
              "      <th>pixel13</th>\n",
              "      <th>pixel14</th>\n",
              "      <th>pixel15</th>\n",
              "      <th>pixel16</th>\n",
              "      <th>pixel17</th>\n",
              "      <th>pixel18</th>\n",
              "      <th>pixel19</th>\n",
              "      <th>pixel20</th>\n",
              "      <th>pixel21</th>\n",
              "      <th>pixel22</th>\n",
              "      <th>pixel23</th>\n",
              "      <th>pixel24</th>\n",
              "      <th>pixel25</th>\n",
              "      <th>pixel26</th>\n",
              "      <th>pixel27</th>\n",
              "      <th>pixel28</th>\n",
              "      <th>pixel29</th>\n",
              "      <th>pixel30</th>\n",
              "      <th>pixel31</th>\n",
              "      <th>pixel32</th>\n",
              "      <th>pixel33</th>\n",
              "      <th>pixel34</th>\n",
              "      <th>pixel35</th>\n",
              "      <th>pixel36</th>\n",
              "      <th>pixel37</th>\n",
              "      <th>pixel38</th>\n",
              "      <th>pixel39</th>\n",
              "      <th>pixel40</th>\n",
              "      <th>...</th>\n",
              "      <th>pixel4058</th>\n",
              "      <th>pixel4059</th>\n",
              "      <th>pixel4060</th>\n",
              "      <th>pixel4061</th>\n",
              "      <th>pixel4062</th>\n",
              "      <th>pixel4063</th>\n",
              "      <th>pixel4064</th>\n",
              "      <th>pixel4065</th>\n",
              "      <th>pixel4066</th>\n",
              "      <th>pixel4067</th>\n",
              "      <th>pixel4068</th>\n",
              "      <th>pixel4069</th>\n",
              "      <th>pixel4070</th>\n",
              "      <th>pixel4071</th>\n",
              "      <th>pixel4072</th>\n",
              "      <th>pixel4073</th>\n",
              "      <th>pixel4074</th>\n",
              "      <th>pixel4075</th>\n",
              "      <th>pixel4076</th>\n",
              "      <th>pixel4077</th>\n",
              "      <th>pixel4078</th>\n",
              "      <th>pixel4079</th>\n",
              "      <th>pixel4080</th>\n",
              "      <th>pixel4081</th>\n",
              "      <th>pixel4082</th>\n",
              "      <th>pixel4083</th>\n",
              "      <th>pixel4084</th>\n",
              "      <th>pixel4085</th>\n",
              "      <th>pixel4086</th>\n",
              "      <th>pixel4087</th>\n",
              "      <th>pixel4088</th>\n",
              "      <th>pixel4089</th>\n",
              "      <th>pixel4090</th>\n",
              "      <th>pixel4091</th>\n",
              "      <th>pixel4092</th>\n",
              "      <th>pixel4093</th>\n",
              "      <th>pixel4094</th>\n",
              "      <th>pixel4095</th>\n",
              "      <th>pixel4096</th>\n",
              "      <th>label</th>\n",
              "    </tr>\n",
              "  </thead>\n",
              "  <tbody>\n",
              "    <tr>\n",
              "      <th>0</th>\n",
              "      <td>195</td>\n",
              "      <td>196</td>\n",
              "      <td>198</td>\n",
              "      <td>200</td>\n",
              "      <td>202</td>\n",
              "      <td>204</td>\n",
              "      <td>206</td>\n",
              "      <td>207</td>\n",
              "      <td>205</td>\n",
              "      <td>206</td>\n",
              "      <td>208</td>\n",
              "      <td>208</td>\n",
              "      <td>204</td>\n",
              "      <td>194</td>\n",
              "      <td>183</td>\n",
              "      <td>174</td>\n",
              "      <td>171</td>\n",
              "      <td>175</td>\n",
              "      <td>170</td>\n",
              "      <td>157</td>\n",
              "      <td>154</td>\n",
              "      <td>161</td>\n",
              "      <td>162</td>\n",
              "      <td>156</td>\n",
              "      <td>166</td>\n",
              "      <td>173</td>\n",
              "      <td>169</td>\n",
              "      <td>168</td>\n",
              "      <td>180</td>\n",
              "      <td>190</td>\n",
              "      <td>199</td>\n",
              "      <td>212</td>\n",
              "      <td>198</td>\n",
              "      <td>204</td>\n",
              "      <td>206</td>\n",
              "      <td>204</td>\n",
              "      <td>205</td>\n",
              "      <td>209</td>\n",
              "      <td>208</td>\n",
              "      <td>203</td>\n",
              "      <td>...</td>\n",
              "      <td>175</td>\n",
              "      <td>171</td>\n",
              "      <td>166</td>\n",
              "      <td>171</td>\n",
              "      <td>177</td>\n",
              "      <td>189</td>\n",
              "      <td>208</td>\n",
              "      <td>204</td>\n",
              "      <td>196</td>\n",
              "      <td>200</td>\n",
              "      <td>194</td>\n",
              "      <td>174</td>\n",
              "      <td>177</td>\n",
              "      <td>187</td>\n",
              "      <td>177</td>\n",
              "      <td>167</td>\n",
              "      <td>173</td>\n",
              "      <td>181</td>\n",
              "      <td>184</td>\n",
              "      <td>183</td>\n",
              "      <td>182</td>\n",
              "      <td>182</td>\n",
              "      <td>184</td>\n",
              "      <td>183</td>\n",
              "      <td>172</td>\n",
              "      <td>167</td>\n",
              "      <td>173</td>\n",
              "      <td>175</td>\n",
              "      <td>169</td>\n",
              "      <td>168</td>\n",
              "      <td>174</td>\n",
              "      <td>161</td>\n",
              "      <td>163</td>\n",
              "      <td>164</td>\n",
              "      <td>163</td>\n",
              "      <td>166</td>\n",
              "      <td>170</td>\n",
              "      <td>170</td>\n",
              "      <td>165</td>\n",
              "      <td>1</td>\n",
              "    </tr>\n",
              "    <tr>\n",
              "      <th>1</th>\n",
              "      <td>10</td>\n",
              "      <td>7</td>\n",
              "      <td>4</td>\n",
              "      <td>3</td>\n",
              "      <td>4</td>\n",
              "      <td>5</td>\n",
              "      <td>4</td>\n",
              "      <td>4</td>\n",
              "      <td>3</td>\n",
              "      <td>3</td>\n",
              "      <td>3</td>\n",
              "      <td>3</td>\n",
              "      <td>3</td>\n",
              "      <td>3</td>\n",
              "      <td>3</td>\n",
              "      <td>3</td>\n",
              "      <td>9</td>\n",
              "      <td>22</td>\n",
              "      <td>6</td>\n",
              "      <td>4</td>\n",
              "      <td>0</td>\n",
              "      <td>21</td>\n",
              "      <td>11</td>\n",
              "      <td>17</td>\n",
              "      <td>21</td>\n",
              "      <td>0</td>\n",
              "      <td>1</td>\n",
              "      <td>11</td>\n",
              "      <td>5</td>\n",
              "      <td>8</td>\n",
              "      <td>9</td>\n",
              "      <td>0</td>\n",
              "      <td>1</td>\n",
              "      <td>14</td>\n",
              "      <td>0</td>\n",
              "      <td>6</td>\n",
              "      <td>0</td>\n",
              "      <td>9</td>\n",
              "      <td>0</td>\n",
              "      <td>4</td>\n",
              "      <td>...</td>\n",
              "      <td>134</td>\n",
              "      <td>125</td>\n",
              "      <td>122</td>\n",
              "      <td>110</td>\n",
              "      <td>110</td>\n",
              "      <td>122</td>\n",
              "      <td>130</td>\n",
              "      <td>118</td>\n",
              "      <td>125</td>\n",
              "      <td>110</td>\n",
              "      <td>98</td>\n",
              "      <td>109</td>\n",
              "      <td>110</td>\n",
              "      <td>110</td>\n",
              "      <td>126</td>\n",
              "      <td>172</td>\n",
              "      <td>176</td>\n",
              "      <td>176</td>\n",
              "      <td>170</td>\n",
              "      <td>168</td>\n",
              "      <td>172</td>\n",
              "      <td>176</td>\n",
              "      <td>177</td>\n",
              "      <td>175</td>\n",
              "      <td>173</td>\n",
              "      <td>142</td>\n",
              "      <td>140</td>\n",
              "      <td>95</td>\n",
              "      <td>85</td>\n",
              "      <td>108</td>\n",
              "      <td>144</td>\n",
              "      <td>128</td>\n",
              "      <td>168</td>\n",
              "      <td>118</td>\n",
              "      <td>144</td>\n",
              "      <td>139</td>\n",
              "      <td>133</td>\n",
              "      <td>139</td>\n",
              "      <td>155</td>\n",
              "      <td>1</td>\n",
              "    </tr>\n",
              "    <tr>\n",
              "      <th>2</th>\n",
              "      <td>202</td>\n",
              "      <td>194</td>\n",
              "      <td>204</td>\n",
              "      <td>193</td>\n",
              "      <td>197</td>\n",
              "      <td>188</td>\n",
              "      <td>195</td>\n",
              "      <td>179</td>\n",
              "      <td>166</td>\n",
              "      <td>126</td>\n",
              "      <td>100</td>\n",
              "      <td>101</td>\n",
              "      <td>110</td>\n",
              "      <td>118</td>\n",
              "      <td>116</td>\n",
              "      <td>102</td>\n",
              "      <td>110</td>\n",
              "      <td>102</td>\n",
              "      <td>116</td>\n",
              "      <td>118</td>\n",
              "      <td>99</td>\n",
              "      <td>110</td>\n",
              "      <td>124</td>\n",
              "      <td>107</td>\n",
              "      <td>122</td>\n",
              "      <td>117</td>\n",
              "      <td>129</td>\n",
              "      <td>127</td>\n",
              "      <td>93</td>\n",
              "      <td>123</td>\n",
              "      <td>51</td>\n",
              "      <td>136</td>\n",
              "      <td>96</td>\n",
              "      <td>67</td>\n",
              "      <td>51</td>\n",
              "      <td>64</td>\n",
              "      <td>57</td>\n",
              "      <td>52</td>\n",
              "      <td>57</td>\n",
              "      <td>46</td>\n",
              "      <td>...</td>\n",
              "      <td>118</td>\n",
              "      <td>177</td>\n",
              "      <td>205</td>\n",
              "      <td>208</td>\n",
              "      <td>210</td>\n",
              "      <td>187</td>\n",
              "      <td>215</td>\n",
              "      <td>191</td>\n",
              "      <td>188</td>\n",
              "      <td>136</td>\n",
              "      <td>109</td>\n",
              "      <td>62</td>\n",
              "      <td>76</td>\n",
              "      <td>47</td>\n",
              "      <td>84</td>\n",
              "      <td>91</td>\n",
              "      <td>72</td>\n",
              "      <td>54</td>\n",
              "      <td>56</td>\n",
              "      <td>74</td>\n",
              "      <td>83</td>\n",
              "      <td>70</td>\n",
              "      <td>51</td>\n",
              "      <td>52</td>\n",
              "      <td>59</td>\n",
              "      <td>49</td>\n",
              "      <td>47</td>\n",
              "      <td>65</td>\n",
              "      <td>64</td>\n",
              "      <td>54</td>\n",
              "      <td>62</td>\n",
              "      <td>63</td>\n",
              "      <td>68</td>\n",
              "      <td>60</td>\n",
              "      <td>78</td>\n",
              "      <td>62</td>\n",
              "      <td>76</td>\n",
              "      <td>73</td>\n",
              "      <td>88</td>\n",
              "      <td>2</td>\n",
              "    </tr>\n",
              "    <tr>\n",
              "      <th>3</th>\n",
              "      <td>111</td>\n",
              "      <td>129</td>\n",
              "      <td>167</td>\n",
              "      <td>91</td>\n",
              "      <td>116</td>\n",
              "      <td>149</td>\n",
              "      <td>81</td>\n",
              "      <td>112</td>\n",
              "      <td>127</td>\n",
              "      <td>141</td>\n",
              "      <td>121</td>\n",
              "      <td>115</td>\n",
              "      <td>116</td>\n",
              "      <td>112</td>\n",
              "      <td>127</td>\n",
              "      <td>129</td>\n",
              "      <td>150</td>\n",
              "      <td>126</td>\n",
              "      <td>179</td>\n",
              "      <td>151</td>\n",
              "      <td>128</td>\n",
              "      <td>156</td>\n",
              "      <td>153</td>\n",
              "      <td>183</td>\n",
              "      <td>101</td>\n",
              "      <td>145</td>\n",
              "      <td>210</td>\n",
              "      <td>106</td>\n",
              "      <td>158</td>\n",
              "      <td>129</td>\n",
              "      <td>168</td>\n",
              "      <td>139</td>\n",
              "      <td>122</td>\n",
              "      <td>107</td>\n",
              "      <td>113</td>\n",
              "      <td>164</td>\n",
              "      <td>127</td>\n",
              "      <td>104</td>\n",
              "      <td>146</td>\n",
              "      <td>151</td>\n",
              "      <td>...</td>\n",
              "      <td>45</td>\n",
              "      <td>23</td>\n",
              "      <td>53</td>\n",
              "      <td>44</td>\n",
              "      <td>124</td>\n",
              "      <td>232</td>\n",
              "      <td>230</td>\n",
              "      <td>169</td>\n",
              "      <td>111</td>\n",
              "      <td>83</td>\n",
              "      <td>100</td>\n",
              "      <td>135</td>\n",
              "      <td>38</td>\n",
              "      <td>179</td>\n",
              "      <td>79</td>\n",
              "      <td>137</td>\n",
              "      <td>141</td>\n",
              "      <td>184</td>\n",
              "      <td>102</td>\n",
              "      <td>98</td>\n",
              "      <td>84</td>\n",
              "      <td>107</td>\n",
              "      <td>82</td>\n",
              "      <td>120</td>\n",
              "      <td>117</td>\n",
              "      <td>59</td>\n",
              "      <td>124</td>\n",
              "      <td>103</td>\n",
              "      <td>151</td>\n",
              "      <td>95</td>\n",
              "      <td>93</td>\n",
              "      <td>186</td>\n",
              "      <td>92</td>\n",
              "      <td>98</td>\n",
              "      <td>101</td>\n",
              "      <td>67</td>\n",
              "      <td>90</td>\n",
              "      <td>126</td>\n",
              "      <td>107</td>\n",
              "      <td>2</td>\n",
              "    </tr>\n",
              "    <tr>\n",
              "      <th>4</th>\n",
              "      <td>92</td>\n",
              "      <td>84</td>\n",
              "      <td>86</td>\n",
              "      <td>80</td>\n",
              "      <td>83</td>\n",
              "      <td>83</td>\n",
              "      <td>83</td>\n",
              "      <td>87</td>\n",
              "      <td>85</td>\n",
              "      <td>85</td>\n",
              "      <td>85</td>\n",
              "      <td>84</td>\n",
              "      <td>84</td>\n",
              "      <td>85</td>\n",
              "      <td>89</td>\n",
              "      <td>92</td>\n",
              "      <td>178</td>\n",
              "      <td>198</td>\n",
              "      <td>212</td>\n",
              "      <td>211</td>\n",
              "      <td>209</td>\n",
              "      <td>213</td>\n",
              "      <td>212</td>\n",
              "      <td>206</td>\n",
              "      <td>204</td>\n",
              "      <td>201</td>\n",
              "      <td>205</td>\n",
              "      <td>202</td>\n",
              "      <td>212</td>\n",
              "      <td>217</td>\n",
              "      <td>205</td>\n",
              "      <td>213</td>\n",
              "      <td>197</td>\n",
              "      <td>206</td>\n",
              "      <td>41</td>\n",
              "      <td>22</td>\n",
              "      <td>110</td>\n",
              "      <td>216</td>\n",
              "      <td>185</td>\n",
              "      <td>217</td>\n",
              "      <td>...</td>\n",
              "      <td>163</td>\n",
              "      <td>177</td>\n",
              "      <td>182</td>\n",
              "      <td>174</td>\n",
              "      <td>100</td>\n",
              "      <td>12</td>\n",
              "      <td>0</td>\n",
              "      <td>3</td>\n",
              "      <td>2</td>\n",
              "      <td>1</td>\n",
              "      <td>1</td>\n",
              "      <td>3</td>\n",
              "      <td>3</td>\n",
              "      <td>2</td>\n",
              "      <td>1</td>\n",
              "      <td>3</td>\n",
              "      <td>3</td>\n",
              "      <td>3</td>\n",
              "      <td>3</td>\n",
              "      <td>3</td>\n",
              "      <td>3</td>\n",
              "      <td>3</td>\n",
              "      <td>3</td>\n",
              "      <td>5</td>\n",
              "      <td>4</td>\n",
              "      <td>3</td>\n",
              "      <td>2</td>\n",
              "      <td>2</td>\n",
              "      <td>2</td>\n",
              "      <td>3</td>\n",
              "      <td>4</td>\n",
              "      <td>1</td>\n",
              "      <td>1</td>\n",
              "      <td>2</td>\n",
              "      <td>3</td>\n",
              "      <td>3</td>\n",
              "      <td>4</td>\n",
              "      <td>5</td>\n",
              "      <td>5</td>\n",
              "      <td>1</td>\n",
              "    </tr>\n",
              "  </tbody>\n",
              "</table>\n",
              "<p>5 rows × 4097 columns</p>\n",
              "</div>"
            ],
            "text/plain": [
              "   pixel1  pixel2  pixel3  pixel4  ...  pixel4094  pixel4095  pixel4096  label\n",
              "0     195     196     198     200  ...        170        170        165      1\n",
              "1      10       7       4       3  ...        133        139        155      1\n",
              "2     202     194     204     193  ...         76         73         88      2\n",
              "3     111     129     167      91  ...         90        126        107      2\n",
              "4      92      84      86      80  ...          4          5          5      1\n",
              "\n",
              "[5 rows x 4097 columns]"
            ]
          },
          "metadata": {
            "tags": []
          },
          "execution_count": 2
        }
      ]
    },
    {
      "cell_type": "code",
      "metadata": {
        "id": "N_ceSjunPs8x",
        "colab": {
          "base_uri": "https://localhost:8080/"
        },
        "outputId": "cd8b5589-4527-479f-d6c1-7f25723e131c"
      },
      "source": [
        "print(df.shape)\n",
        "ntrain = df.shape[0]"
      ],
      "execution_count": null,
      "outputs": [
        {
          "output_type": "stream",
          "text": [
            "(3000, 4097)\n"
          ],
          "name": "stdout"
        }
      ]
    },
    {
      "cell_type": "markdown",
      "metadata": {
        "id": "B7IZ9a3HXkY6"
      },
      "source": [
        "### Data Description:\n",
        "\n",
        "This dataset consists of 3000 images of cats, dogs, and pandas.\n",
        "Each class has a 1000 images and each image is labelled according to the class it belongs.\n",
        "\n",
        "\n",
        "| Number of Samples | Animal | Label |\n",
        "| :---: | :---: | :---: |\n",
        "| 1000 samples |  cat | 1 |\n",
        "| 1000 samples |  dog | 2 |\n",
        "| 1000 samples |  panda | 3 |"
      ]
    },
    {
      "cell_type": "markdown",
      "metadata": {
        "id": "7GfP8fvwPCJ_"
      },
      "source": [
        "### Extract X and y from the dataframe **df**.\n",
        "\n",
        "- **X** should contain all the columns containing pixel values.\n",
        "\n",
        "- **y** should contain the column *label*."
      ]
    },
    {
      "cell_type": "code",
      "metadata": {
        "id": "Y3zfk5K_E-tC"
      },
      "source": [
        "def extract_x(df):\n",
        "    X = df.drop(columns = ['label'], axis = 1)# Write code to extract X from the dataframe df.\n",
        "\n",
        "    return X"
      ],
      "execution_count": null,
      "outputs": []
    },
    {
      "cell_type": "code",
      "metadata": {
        "id": "GdZ90EVPDw-Z",
        "colab": {
          "base_uri": "https://localhost:8080/",
          "height": 253
        },
        "outputId": "8a738db8-b66f-4ef4-e141-6b84c6d81d71"
      },
      "source": [
        "X = extract_x(df)\n",
        "X.head()"
      ],
      "execution_count": null,
      "outputs": [
        {
          "output_type": "execute_result",
          "data": {
            "text/html": [
              "<div>\n",
              "<style scoped>\n",
              "    .dataframe tbody tr th:only-of-type {\n",
              "        vertical-align: middle;\n",
              "    }\n",
              "\n",
              "    .dataframe tbody tr th {\n",
              "        vertical-align: top;\n",
              "    }\n",
              "\n",
              "    .dataframe thead th {\n",
              "        text-align: right;\n",
              "    }\n",
              "</style>\n",
              "<table border=\"1\" class=\"dataframe\">\n",
              "  <thead>\n",
              "    <tr style=\"text-align: right;\">\n",
              "      <th></th>\n",
              "      <th>pixel1</th>\n",
              "      <th>pixel2</th>\n",
              "      <th>pixel3</th>\n",
              "      <th>pixel4</th>\n",
              "      <th>pixel5</th>\n",
              "      <th>pixel6</th>\n",
              "      <th>pixel7</th>\n",
              "      <th>pixel8</th>\n",
              "      <th>pixel9</th>\n",
              "      <th>pixel10</th>\n",
              "      <th>pixel11</th>\n",
              "      <th>pixel12</th>\n",
              "      <th>pixel13</th>\n",
              "      <th>pixel14</th>\n",
              "      <th>pixel15</th>\n",
              "      <th>pixel16</th>\n",
              "      <th>pixel17</th>\n",
              "      <th>pixel18</th>\n",
              "      <th>pixel19</th>\n",
              "      <th>pixel20</th>\n",
              "      <th>pixel21</th>\n",
              "      <th>pixel22</th>\n",
              "      <th>pixel23</th>\n",
              "      <th>pixel24</th>\n",
              "      <th>pixel25</th>\n",
              "      <th>pixel26</th>\n",
              "      <th>pixel27</th>\n",
              "      <th>pixel28</th>\n",
              "      <th>pixel29</th>\n",
              "      <th>pixel30</th>\n",
              "      <th>pixel31</th>\n",
              "      <th>pixel32</th>\n",
              "      <th>pixel33</th>\n",
              "      <th>pixel34</th>\n",
              "      <th>pixel35</th>\n",
              "      <th>pixel36</th>\n",
              "      <th>pixel37</th>\n",
              "      <th>pixel38</th>\n",
              "      <th>pixel39</th>\n",
              "      <th>pixel40</th>\n",
              "      <th>...</th>\n",
              "      <th>pixel4057</th>\n",
              "      <th>pixel4058</th>\n",
              "      <th>pixel4059</th>\n",
              "      <th>pixel4060</th>\n",
              "      <th>pixel4061</th>\n",
              "      <th>pixel4062</th>\n",
              "      <th>pixel4063</th>\n",
              "      <th>pixel4064</th>\n",
              "      <th>pixel4065</th>\n",
              "      <th>pixel4066</th>\n",
              "      <th>pixel4067</th>\n",
              "      <th>pixel4068</th>\n",
              "      <th>pixel4069</th>\n",
              "      <th>pixel4070</th>\n",
              "      <th>pixel4071</th>\n",
              "      <th>pixel4072</th>\n",
              "      <th>pixel4073</th>\n",
              "      <th>pixel4074</th>\n",
              "      <th>pixel4075</th>\n",
              "      <th>pixel4076</th>\n",
              "      <th>pixel4077</th>\n",
              "      <th>pixel4078</th>\n",
              "      <th>pixel4079</th>\n",
              "      <th>pixel4080</th>\n",
              "      <th>pixel4081</th>\n",
              "      <th>pixel4082</th>\n",
              "      <th>pixel4083</th>\n",
              "      <th>pixel4084</th>\n",
              "      <th>pixel4085</th>\n",
              "      <th>pixel4086</th>\n",
              "      <th>pixel4087</th>\n",
              "      <th>pixel4088</th>\n",
              "      <th>pixel4089</th>\n",
              "      <th>pixel4090</th>\n",
              "      <th>pixel4091</th>\n",
              "      <th>pixel4092</th>\n",
              "      <th>pixel4093</th>\n",
              "      <th>pixel4094</th>\n",
              "      <th>pixel4095</th>\n",
              "      <th>pixel4096</th>\n",
              "    </tr>\n",
              "  </thead>\n",
              "  <tbody>\n",
              "    <tr>\n",
              "      <th>0</th>\n",
              "      <td>195</td>\n",
              "      <td>196</td>\n",
              "      <td>198</td>\n",
              "      <td>200</td>\n",
              "      <td>202</td>\n",
              "      <td>204</td>\n",
              "      <td>206</td>\n",
              "      <td>207</td>\n",
              "      <td>205</td>\n",
              "      <td>206</td>\n",
              "      <td>208</td>\n",
              "      <td>208</td>\n",
              "      <td>204</td>\n",
              "      <td>194</td>\n",
              "      <td>183</td>\n",
              "      <td>174</td>\n",
              "      <td>171</td>\n",
              "      <td>175</td>\n",
              "      <td>170</td>\n",
              "      <td>157</td>\n",
              "      <td>154</td>\n",
              "      <td>161</td>\n",
              "      <td>162</td>\n",
              "      <td>156</td>\n",
              "      <td>166</td>\n",
              "      <td>173</td>\n",
              "      <td>169</td>\n",
              "      <td>168</td>\n",
              "      <td>180</td>\n",
              "      <td>190</td>\n",
              "      <td>199</td>\n",
              "      <td>212</td>\n",
              "      <td>198</td>\n",
              "      <td>204</td>\n",
              "      <td>206</td>\n",
              "      <td>204</td>\n",
              "      <td>205</td>\n",
              "      <td>209</td>\n",
              "      <td>208</td>\n",
              "      <td>203</td>\n",
              "      <td>...</td>\n",
              "      <td>168</td>\n",
              "      <td>175</td>\n",
              "      <td>171</td>\n",
              "      <td>166</td>\n",
              "      <td>171</td>\n",
              "      <td>177</td>\n",
              "      <td>189</td>\n",
              "      <td>208</td>\n",
              "      <td>204</td>\n",
              "      <td>196</td>\n",
              "      <td>200</td>\n",
              "      <td>194</td>\n",
              "      <td>174</td>\n",
              "      <td>177</td>\n",
              "      <td>187</td>\n",
              "      <td>177</td>\n",
              "      <td>167</td>\n",
              "      <td>173</td>\n",
              "      <td>181</td>\n",
              "      <td>184</td>\n",
              "      <td>183</td>\n",
              "      <td>182</td>\n",
              "      <td>182</td>\n",
              "      <td>184</td>\n",
              "      <td>183</td>\n",
              "      <td>172</td>\n",
              "      <td>167</td>\n",
              "      <td>173</td>\n",
              "      <td>175</td>\n",
              "      <td>169</td>\n",
              "      <td>168</td>\n",
              "      <td>174</td>\n",
              "      <td>161</td>\n",
              "      <td>163</td>\n",
              "      <td>164</td>\n",
              "      <td>163</td>\n",
              "      <td>166</td>\n",
              "      <td>170</td>\n",
              "      <td>170</td>\n",
              "      <td>165</td>\n",
              "    </tr>\n",
              "    <tr>\n",
              "      <th>1</th>\n",
              "      <td>10</td>\n",
              "      <td>7</td>\n",
              "      <td>4</td>\n",
              "      <td>3</td>\n",
              "      <td>4</td>\n",
              "      <td>5</td>\n",
              "      <td>4</td>\n",
              "      <td>4</td>\n",
              "      <td>3</td>\n",
              "      <td>3</td>\n",
              "      <td>3</td>\n",
              "      <td>3</td>\n",
              "      <td>3</td>\n",
              "      <td>3</td>\n",
              "      <td>3</td>\n",
              "      <td>3</td>\n",
              "      <td>9</td>\n",
              "      <td>22</td>\n",
              "      <td>6</td>\n",
              "      <td>4</td>\n",
              "      <td>0</td>\n",
              "      <td>21</td>\n",
              "      <td>11</td>\n",
              "      <td>17</td>\n",
              "      <td>21</td>\n",
              "      <td>0</td>\n",
              "      <td>1</td>\n",
              "      <td>11</td>\n",
              "      <td>5</td>\n",
              "      <td>8</td>\n",
              "      <td>9</td>\n",
              "      <td>0</td>\n",
              "      <td>1</td>\n",
              "      <td>14</td>\n",
              "      <td>0</td>\n",
              "      <td>6</td>\n",
              "      <td>0</td>\n",
              "      <td>9</td>\n",
              "      <td>0</td>\n",
              "      <td>4</td>\n",
              "      <td>...</td>\n",
              "      <td>155</td>\n",
              "      <td>134</td>\n",
              "      <td>125</td>\n",
              "      <td>122</td>\n",
              "      <td>110</td>\n",
              "      <td>110</td>\n",
              "      <td>122</td>\n",
              "      <td>130</td>\n",
              "      <td>118</td>\n",
              "      <td>125</td>\n",
              "      <td>110</td>\n",
              "      <td>98</td>\n",
              "      <td>109</td>\n",
              "      <td>110</td>\n",
              "      <td>110</td>\n",
              "      <td>126</td>\n",
              "      <td>172</td>\n",
              "      <td>176</td>\n",
              "      <td>176</td>\n",
              "      <td>170</td>\n",
              "      <td>168</td>\n",
              "      <td>172</td>\n",
              "      <td>176</td>\n",
              "      <td>177</td>\n",
              "      <td>175</td>\n",
              "      <td>173</td>\n",
              "      <td>142</td>\n",
              "      <td>140</td>\n",
              "      <td>95</td>\n",
              "      <td>85</td>\n",
              "      <td>108</td>\n",
              "      <td>144</td>\n",
              "      <td>128</td>\n",
              "      <td>168</td>\n",
              "      <td>118</td>\n",
              "      <td>144</td>\n",
              "      <td>139</td>\n",
              "      <td>133</td>\n",
              "      <td>139</td>\n",
              "      <td>155</td>\n",
              "    </tr>\n",
              "    <tr>\n",
              "      <th>2</th>\n",
              "      <td>202</td>\n",
              "      <td>194</td>\n",
              "      <td>204</td>\n",
              "      <td>193</td>\n",
              "      <td>197</td>\n",
              "      <td>188</td>\n",
              "      <td>195</td>\n",
              "      <td>179</td>\n",
              "      <td>166</td>\n",
              "      <td>126</td>\n",
              "      <td>100</td>\n",
              "      <td>101</td>\n",
              "      <td>110</td>\n",
              "      <td>118</td>\n",
              "      <td>116</td>\n",
              "      <td>102</td>\n",
              "      <td>110</td>\n",
              "      <td>102</td>\n",
              "      <td>116</td>\n",
              "      <td>118</td>\n",
              "      <td>99</td>\n",
              "      <td>110</td>\n",
              "      <td>124</td>\n",
              "      <td>107</td>\n",
              "      <td>122</td>\n",
              "      <td>117</td>\n",
              "      <td>129</td>\n",
              "      <td>127</td>\n",
              "      <td>93</td>\n",
              "      <td>123</td>\n",
              "      <td>51</td>\n",
              "      <td>136</td>\n",
              "      <td>96</td>\n",
              "      <td>67</td>\n",
              "      <td>51</td>\n",
              "      <td>64</td>\n",
              "      <td>57</td>\n",
              "      <td>52</td>\n",
              "      <td>57</td>\n",
              "      <td>46</td>\n",
              "      <td>...</td>\n",
              "      <td>134</td>\n",
              "      <td>118</td>\n",
              "      <td>177</td>\n",
              "      <td>205</td>\n",
              "      <td>208</td>\n",
              "      <td>210</td>\n",
              "      <td>187</td>\n",
              "      <td>215</td>\n",
              "      <td>191</td>\n",
              "      <td>188</td>\n",
              "      <td>136</td>\n",
              "      <td>109</td>\n",
              "      <td>62</td>\n",
              "      <td>76</td>\n",
              "      <td>47</td>\n",
              "      <td>84</td>\n",
              "      <td>91</td>\n",
              "      <td>72</td>\n",
              "      <td>54</td>\n",
              "      <td>56</td>\n",
              "      <td>74</td>\n",
              "      <td>83</td>\n",
              "      <td>70</td>\n",
              "      <td>51</td>\n",
              "      <td>52</td>\n",
              "      <td>59</td>\n",
              "      <td>49</td>\n",
              "      <td>47</td>\n",
              "      <td>65</td>\n",
              "      <td>64</td>\n",
              "      <td>54</td>\n",
              "      <td>62</td>\n",
              "      <td>63</td>\n",
              "      <td>68</td>\n",
              "      <td>60</td>\n",
              "      <td>78</td>\n",
              "      <td>62</td>\n",
              "      <td>76</td>\n",
              "      <td>73</td>\n",
              "      <td>88</td>\n",
              "    </tr>\n",
              "    <tr>\n",
              "      <th>3</th>\n",
              "      <td>111</td>\n",
              "      <td>129</td>\n",
              "      <td>167</td>\n",
              "      <td>91</td>\n",
              "      <td>116</td>\n",
              "      <td>149</td>\n",
              "      <td>81</td>\n",
              "      <td>112</td>\n",
              "      <td>127</td>\n",
              "      <td>141</td>\n",
              "      <td>121</td>\n",
              "      <td>115</td>\n",
              "      <td>116</td>\n",
              "      <td>112</td>\n",
              "      <td>127</td>\n",
              "      <td>129</td>\n",
              "      <td>150</td>\n",
              "      <td>126</td>\n",
              "      <td>179</td>\n",
              "      <td>151</td>\n",
              "      <td>128</td>\n",
              "      <td>156</td>\n",
              "      <td>153</td>\n",
              "      <td>183</td>\n",
              "      <td>101</td>\n",
              "      <td>145</td>\n",
              "      <td>210</td>\n",
              "      <td>106</td>\n",
              "      <td>158</td>\n",
              "      <td>129</td>\n",
              "      <td>168</td>\n",
              "      <td>139</td>\n",
              "      <td>122</td>\n",
              "      <td>107</td>\n",
              "      <td>113</td>\n",
              "      <td>164</td>\n",
              "      <td>127</td>\n",
              "      <td>104</td>\n",
              "      <td>146</td>\n",
              "      <td>151</td>\n",
              "      <td>...</td>\n",
              "      <td>35</td>\n",
              "      <td>45</td>\n",
              "      <td>23</td>\n",
              "      <td>53</td>\n",
              "      <td>44</td>\n",
              "      <td>124</td>\n",
              "      <td>232</td>\n",
              "      <td>230</td>\n",
              "      <td>169</td>\n",
              "      <td>111</td>\n",
              "      <td>83</td>\n",
              "      <td>100</td>\n",
              "      <td>135</td>\n",
              "      <td>38</td>\n",
              "      <td>179</td>\n",
              "      <td>79</td>\n",
              "      <td>137</td>\n",
              "      <td>141</td>\n",
              "      <td>184</td>\n",
              "      <td>102</td>\n",
              "      <td>98</td>\n",
              "      <td>84</td>\n",
              "      <td>107</td>\n",
              "      <td>82</td>\n",
              "      <td>120</td>\n",
              "      <td>117</td>\n",
              "      <td>59</td>\n",
              "      <td>124</td>\n",
              "      <td>103</td>\n",
              "      <td>151</td>\n",
              "      <td>95</td>\n",
              "      <td>93</td>\n",
              "      <td>186</td>\n",
              "      <td>92</td>\n",
              "      <td>98</td>\n",
              "      <td>101</td>\n",
              "      <td>67</td>\n",
              "      <td>90</td>\n",
              "      <td>126</td>\n",
              "      <td>107</td>\n",
              "    </tr>\n",
              "    <tr>\n",
              "      <th>4</th>\n",
              "      <td>92</td>\n",
              "      <td>84</td>\n",
              "      <td>86</td>\n",
              "      <td>80</td>\n",
              "      <td>83</td>\n",
              "      <td>83</td>\n",
              "      <td>83</td>\n",
              "      <td>87</td>\n",
              "      <td>85</td>\n",
              "      <td>85</td>\n",
              "      <td>85</td>\n",
              "      <td>84</td>\n",
              "      <td>84</td>\n",
              "      <td>85</td>\n",
              "      <td>89</td>\n",
              "      <td>92</td>\n",
              "      <td>178</td>\n",
              "      <td>198</td>\n",
              "      <td>212</td>\n",
              "      <td>211</td>\n",
              "      <td>209</td>\n",
              "      <td>213</td>\n",
              "      <td>212</td>\n",
              "      <td>206</td>\n",
              "      <td>204</td>\n",
              "      <td>201</td>\n",
              "      <td>205</td>\n",
              "      <td>202</td>\n",
              "      <td>212</td>\n",
              "      <td>217</td>\n",
              "      <td>205</td>\n",
              "      <td>213</td>\n",
              "      <td>197</td>\n",
              "      <td>206</td>\n",
              "      <td>41</td>\n",
              "      <td>22</td>\n",
              "      <td>110</td>\n",
              "      <td>216</td>\n",
              "      <td>185</td>\n",
              "      <td>217</td>\n",
              "      <td>...</td>\n",
              "      <td>149</td>\n",
              "      <td>163</td>\n",
              "      <td>177</td>\n",
              "      <td>182</td>\n",
              "      <td>174</td>\n",
              "      <td>100</td>\n",
              "      <td>12</td>\n",
              "      <td>0</td>\n",
              "      <td>3</td>\n",
              "      <td>2</td>\n",
              "      <td>1</td>\n",
              "      <td>1</td>\n",
              "      <td>3</td>\n",
              "      <td>3</td>\n",
              "      <td>2</td>\n",
              "      <td>1</td>\n",
              "      <td>3</td>\n",
              "      <td>3</td>\n",
              "      <td>3</td>\n",
              "      <td>3</td>\n",
              "      <td>3</td>\n",
              "      <td>3</td>\n",
              "      <td>3</td>\n",
              "      <td>3</td>\n",
              "      <td>5</td>\n",
              "      <td>4</td>\n",
              "      <td>3</td>\n",
              "      <td>2</td>\n",
              "      <td>2</td>\n",
              "      <td>2</td>\n",
              "      <td>3</td>\n",
              "      <td>4</td>\n",
              "      <td>1</td>\n",
              "      <td>1</td>\n",
              "      <td>2</td>\n",
              "      <td>3</td>\n",
              "      <td>3</td>\n",
              "      <td>4</td>\n",
              "      <td>5</td>\n",
              "      <td>5</td>\n",
              "    </tr>\n",
              "  </tbody>\n",
              "</table>\n",
              "<p>5 rows × 4096 columns</p>\n",
              "</div>"
            ],
            "text/plain": [
              "   pixel1  pixel2  pixel3  pixel4  ...  pixel4093  pixel4094  pixel4095  pixel4096\n",
              "0     195     196     198     200  ...        166        170        170        165\n",
              "1      10       7       4       3  ...        139        133        139        155\n",
              "2     202     194     204     193  ...         62         76         73         88\n",
              "3     111     129     167      91  ...         67         90        126        107\n",
              "4      92      84      86      80  ...          3          4          5          5\n",
              "\n",
              "[5 rows x 4096 columns]"
            ]
          },
          "metadata": {
            "tags": []
          },
          "execution_count": 5
        }
      ]
    },
    {
      "cell_type": "code",
      "metadata": {
        "id": "zah9hJ_RE-ne",
        "colab": {
          "base_uri": "https://localhost:8080/"
        },
        "outputId": "5af1c9c7-8f4f-4d29-b590-224d8c4eb6ae"
      },
      "source": [
        "# The images are in square from, so dim*dim = 1024\n",
        "from math import sqrt\n",
        "dim = int(sqrt(X.shape[1]))\n",
        "print(\"The images are {}x{} square.\".format(dim, dim))"
      ],
      "execution_count": null,
      "outputs": [
        {
          "output_type": "stream",
          "text": [
            "The images are 64x64 square.\n"
          ],
          "name": "stdout"
        }
      ]
    },
    {
      "cell_type": "code",
      "metadata": {
        "id": "VqtBR8XnPs87",
        "colab": {
          "base_uri": "https://localhost:8080/"
        },
        "outputId": "5c3db5f7-5a0d-44ae-a9cd-a1c931aa3738"
      },
      "source": [
        "print(\"Shape of X: \", X.shape)"
      ],
      "execution_count": null,
      "outputs": [
        {
          "output_type": "stream",
          "text": [
            "Shape of X:  (3000, 4096)\n"
          ],
          "name": "stdout"
        }
      ]
    },
    {
      "cell_type": "code",
      "metadata": {
        "id": "weiOtxOfD_In"
      },
      "source": [
        "def extract_y(df):\n",
        "  y = df['label'] # Write code to extract y from the dataframe df.\n",
        "\n",
        "  return y"
      ],
      "execution_count": null,
      "outputs": []
    },
    {
      "cell_type": "code",
      "metadata": {
        "id": "VzRW8njlmGzH",
        "colab": {
          "base_uri": "https://localhost:8080/"
        },
        "outputId": "17c04c73-7c48-42ce-f59c-8cf5e801c2fd"
      },
      "source": [
        "y = extract_y(df)\n",
        "y.head()"
      ],
      "execution_count": null,
      "outputs": [
        {
          "output_type": "execute_result",
          "data": {
            "text/plain": [
              "0    1\n",
              "1    1\n",
              "2    2\n",
              "3    2\n",
              "4    1\n",
              "Name: label, dtype: int64"
            ]
          },
          "metadata": {
            "tags": []
          },
          "execution_count": 9
        }
      ]
    },
    {
      "cell_type": "code",
      "metadata": {
        "id": "c7tTFfwfE-p1",
        "colab": {
          "base_uri": "https://localhost:8080/"
        },
        "outputId": "f00d30fc-5b99-45c3-8a3b-55bf375324f5"
      },
      "source": [
        "print(\"Shape of y: \", y.shape)"
      ],
      "execution_count": null,
      "outputs": [
        {
          "output_type": "stream",
          "text": [
            "Shape of y:  (3000,)\n"
          ],
          "name": "stdout"
        }
      ]
    },
    {
      "cell_type": "markdown",
      "metadata": {
        "id": "iQQEsk73Ps9O"
      },
      "source": [
        "### Convert X to (num_images, img_rows, img_cols) shape.\n",
        "\n",
        "- Use **ntrain** as **num_images**.\n",
        "\n",
        "- Use **dim** as **img_rows**, and **img_cols**."
      ]
    },
    {
      "cell_type": "code",
      "metadata": {
        "id": "iNC3wI32GmRz"
      },
      "source": [
        "import matplotlib.pyplot as plt\n",
        "import matplotlib.image as mpimg\n",
        "%matplotlib inline"
      ],
      "execution_count": null,
      "outputs": []
    },
    {
      "cell_type": "code",
      "metadata": {
        "id": "tK5OQI7gF-Cq"
      },
      "source": [
        "def reshape_X(X):\n",
        "    X_vis = X.values.reshape(X.shape[0], 64, 64)# Write code to reshape X to the specified format.\n",
        "\n",
        "    return X_vis"
      ],
      "execution_count": null,
      "outputs": []
    },
    {
      "cell_type": "code",
      "metadata": {
        "id": "acntzMqHGmUS"
      },
      "source": [
        "X_vis = reshape_X(X)"
      ],
      "execution_count": null,
      "outputs": []
    },
    {
      "cell_type": "code",
      "metadata": {
        "id": "LarMVyz0xovd"
      },
      "source": [
        "y = y.reset_index(drop = True)"
      ],
      "execution_count": null,
      "outputs": []
    },
    {
      "cell_type": "code",
      "metadata": {
        "colab": {
          "base_uri": "https://localhost:8080/"
        },
        "id": "9j-o7XXjxtJ5",
        "outputId": "1e8ea297-54e6-4eb7-b9d7-43073021ff14"
      },
      "source": [
        "y"
      ],
      "execution_count": null,
      "outputs": [
        {
          "output_type": "execute_result",
          "data": {
            "text/plain": [
              "0       1\n",
              "1       1\n",
              "2       2\n",
              "3       2\n",
              "4       1\n",
              "       ..\n",
              "2995    1\n",
              "2996    2\n",
              "2997    2\n",
              "2998    2\n",
              "2999    1\n",
              "Name: label, Length: 3000, dtype: int64"
            ]
          },
          "metadata": {
            "tags": []
          },
          "execution_count": 15
        }
      ]
    },
    {
      "cell_type": "code",
      "metadata": {
        "id": "APWWFzl9Ps9Q",
        "colab": {
          "base_uri": "https://localhost:8080/",
          "height": 162
        },
        "outputId": "08b5352b-44ea-45ce-da48-828534e214e9"
      },
      "source": [
        "for i in range(1, 4):                                            # Specifying how many images to show in the 3x3 grid\n",
        "    plt.subplot(1, 3, i)                                         # Open next subplot\n",
        "    plt.imshow(X_vis[i], cmap=plt.get_cmap('gray'))\n",
        "    plt.title(y[i]);"
      ],
      "execution_count": null,
      "outputs": [
        {
          "output_type": "display_data",
          "data": {
            "image/png": "[encoded data removed]",
            "text/plain": [
              "<Figure size 432x288 with 3 Axes>"
            ]
          },
          "metadata": {
            "tags": [],
            "needs_background": "light"
          }
        }
      ]
    },
    {
      "cell_type": "markdown",
      "metadata": {
        "id": "BN0YGXHnPs9T"
      },
      "source": [
        "### Perform Normalization of the pixel values.\n",
        "\n",
        "- All values should lie between 0 and 1 after normalization."
      ]
    },
    {
      "cell_type": "code",
      "metadata": {
        "id": "xZQokmQVPs9U"
      },
      "source": [
        "def normalize_X(X):\n",
        "    X = X/255 # Write code to normalize the pixel values.\n",
        "\n",
        "    return X"
      ],
      "execution_count": null,
      "outputs": []
    },
    {
      "cell_type": "code",
      "metadata": {
        "id": "LjmNs_LyGa5Y"
      },
      "source": [
        "X = normalize_X(X)"
      ],
      "execution_count": null,
      "outputs": []
    },
    {
      "cell_type": "code",
      "metadata": {
        "id": "vvb8HIG3Grmc",
        "colab": {
          "base_uri": "https://localhost:8080/",
          "height": 253
        },
        "outputId": "f0f1b2ef-fa38-49e9-eeea-0f7e817d04f3"
      },
      "source": [
        "X.head()"
      ],
      "execution_count": null,
      "outputs": [
        {
          "output_type": "execute_result",
          "data": {
            "text/html": [
              "<div>\n",
              "<style scoped>\n",
              "    .dataframe tbody tr th:only-of-type {\n",
              "        vertical-align: middle;\n",
              "    }\n",
              "\n",
              "    .dataframe tbody tr th {\n",
              "        vertical-align: top;\n",
              "    }\n",
              "\n",
              "    .dataframe thead th {\n",
              "        text-align: right;\n",
              "    }\n",
              "</style>\n",
              "<table border=\"1\" class=\"dataframe\">\n",
              "  <thead>\n",
              "    <tr style=\"text-align: right;\">\n",
              "      <th></th>\n",
              "      <th>pixel1</th>\n",
              "      <th>pixel2</th>\n",
              "      <th>pixel3</th>\n",
              "      <th>pixel4</th>\n",
              "      <th>pixel5</th>\n",
              "      <th>pixel6</th>\n",
              "      <th>pixel7</th>\n",
              "      <th>pixel8</th>\n",
              "      <th>pixel9</th>\n",
              "      <th>pixel10</th>\n",
              "      <th>pixel11</th>\n",
              "      <th>pixel12</th>\n",
              "      <th>pixel13</th>\n",
              "      <th>pixel14</th>\n",
              "      <th>pixel15</th>\n",
              "      <th>pixel16</th>\n",
              "      <th>pixel17</th>\n",
              "      <th>pixel18</th>\n",
              "      <th>pixel19</th>\n",
              "      <th>pixel20</th>\n",
              "      <th>pixel21</th>\n",
              "      <th>pixel22</th>\n",
              "      <th>pixel23</th>\n",
              "      <th>pixel24</th>\n",
              "      <th>pixel25</th>\n",
              "      <th>pixel26</th>\n",
              "      <th>pixel27</th>\n",
              "      <th>pixel28</th>\n",
              "      <th>pixel29</th>\n",
              "      <th>pixel30</th>\n",
              "      <th>pixel31</th>\n",
              "      <th>pixel32</th>\n",
              "      <th>pixel33</th>\n",
              "      <th>pixel34</th>\n",
              "      <th>pixel35</th>\n",
              "      <th>pixel36</th>\n",
              "      <th>pixel37</th>\n",
              "      <th>pixel38</th>\n",
              "      <th>pixel39</th>\n",
              "      <th>pixel40</th>\n",
              "      <th>...</th>\n",
              "      <th>pixel4057</th>\n",
              "      <th>pixel4058</th>\n",
              "      <th>pixel4059</th>\n",
              "      <th>pixel4060</th>\n",
              "      <th>pixel4061</th>\n",
              "      <th>pixel4062</th>\n",
              "      <th>pixel4063</th>\n",
              "      <th>pixel4064</th>\n",
              "      <th>pixel4065</th>\n",
              "      <th>pixel4066</th>\n",
              "      <th>pixel4067</th>\n",
              "      <th>pixel4068</th>\n",
              "      <th>pixel4069</th>\n",
              "      <th>pixel4070</th>\n",
              "      <th>pixel4071</th>\n",
              "      <th>pixel4072</th>\n",
              "      <th>pixel4073</th>\n",
              "      <th>pixel4074</th>\n",
              "      <th>pixel4075</th>\n",
              "      <th>pixel4076</th>\n",
              "      <th>pixel4077</th>\n",
              "      <th>pixel4078</th>\n",
              "      <th>pixel4079</th>\n",
              "      <th>pixel4080</th>\n",
              "      <th>pixel4081</th>\n",
              "      <th>pixel4082</th>\n",
              "      <th>pixel4083</th>\n",
              "      <th>pixel4084</th>\n",
              "      <th>pixel4085</th>\n",
              "      <th>pixel4086</th>\n",
              "      <th>pixel4087</th>\n",
              "      <th>pixel4088</th>\n",
              "      <th>pixel4089</th>\n",
              "      <th>pixel4090</th>\n",
              "      <th>pixel4091</th>\n",
              "      <th>pixel4092</th>\n",
              "      <th>pixel4093</th>\n",
              "      <th>pixel4094</th>\n",
              "      <th>pixel4095</th>\n",
              "      <th>pixel4096</th>\n",
              "    </tr>\n",
              "  </thead>\n",
              "  <tbody>\n",
              "    <tr>\n",
              "      <th>0</th>\n",
              "      <td>0.764706</td>\n",
              "      <td>0.768627</td>\n",
              "      <td>0.776471</td>\n",
              "      <td>0.784314</td>\n",
              "      <td>0.792157</td>\n",
              "      <td>0.800000</td>\n",
              "      <td>0.807843</td>\n",
              "      <td>0.811765</td>\n",
              "      <td>0.803922</td>\n",
              "      <td>0.807843</td>\n",
              "      <td>0.815686</td>\n",
              "      <td>0.815686</td>\n",
              "      <td>0.800000</td>\n",
              "      <td>0.760784</td>\n",
              "      <td>0.717647</td>\n",
              "      <td>0.682353</td>\n",
              "      <td>0.670588</td>\n",
              "      <td>0.686275</td>\n",
              "      <td>0.666667</td>\n",
              "      <td>0.615686</td>\n",
              "      <td>0.603922</td>\n",
              "      <td>0.631373</td>\n",
              "      <td>0.635294</td>\n",
              "      <td>0.611765</td>\n",
              "      <td>0.650980</td>\n",
              "      <td>0.678431</td>\n",
              "      <td>0.662745</td>\n",
              "      <td>0.658824</td>\n",
              "      <td>0.705882</td>\n",
              "      <td>0.745098</td>\n",
              "      <td>0.780392</td>\n",
              "      <td>0.831373</td>\n",
              "      <td>0.776471</td>\n",
              "      <td>0.800000</td>\n",
              "      <td>0.807843</td>\n",
              "      <td>0.800000</td>\n",
              "      <td>0.803922</td>\n",
              "      <td>0.819608</td>\n",
              "      <td>0.815686</td>\n",
              "      <td>0.796078</td>\n",
              "      <td>...</td>\n",
              "      <td>0.658824</td>\n",
              "      <td>0.686275</td>\n",
              "      <td>0.670588</td>\n",
              "      <td>0.650980</td>\n",
              "      <td>0.670588</td>\n",
              "      <td>0.694118</td>\n",
              "      <td>0.741176</td>\n",
              "      <td>0.815686</td>\n",
              "      <td>0.800000</td>\n",
              "      <td>0.768627</td>\n",
              "      <td>0.784314</td>\n",
              "      <td>0.760784</td>\n",
              "      <td>0.682353</td>\n",
              "      <td>0.694118</td>\n",
              "      <td>0.733333</td>\n",
              "      <td>0.694118</td>\n",
              "      <td>0.654902</td>\n",
              "      <td>0.678431</td>\n",
              "      <td>0.709804</td>\n",
              "      <td>0.721569</td>\n",
              "      <td>0.717647</td>\n",
              "      <td>0.713725</td>\n",
              "      <td>0.713725</td>\n",
              "      <td>0.721569</td>\n",
              "      <td>0.717647</td>\n",
              "      <td>0.674510</td>\n",
              "      <td>0.654902</td>\n",
              "      <td>0.678431</td>\n",
              "      <td>0.686275</td>\n",
              "      <td>0.662745</td>\n",
              "      <td>0.658824</td>\n",
              "      <td>0.682353</td>\n",
              "      <td>0.631373</td>\n",
              "      <td>0.639216</td>\n",
              "      <td>0.643137</td>\n",
              "      <td>0.639216</td>\n",
              "      <td>0.650980</td>\n",
              "      <td>0.666667</td>\n",
              "      <td>0.666667</td>\n",
              "      <td>0.647059</td>\n",
              "    </tr>\n",
              "    <tr>\n",
              "      <th>1</th>\n",
              "      <td>0.039216</td>\n",
              "      <td>0.027451</td>\n",
              "      <td>0.015686</td>\n",
              "      <td>0.011765</td>\n",
              "      <td>0.015686</td>\n",
              "      <td>0.019608</td>\n",
              "      <td>0.015686</td>\n",
              "      <td>0.015686</td>\n",
              "      <td>0.011765</td>\n",
              "      <td>0.011765</td>\n",
              "      <td>0.011765</td>\n",
              "      <td>0.011765</td>\n",
              "      <td>0.011765</td>\n",
              "      <td>0.011765</td>\n",
              "      <td>0.011765</td>\n",
              "      <td>0.011765</td>\n",
              "      <td>0.035294</td>\n",
              "      <td>0.086275</td>\n",
              "      <td>0.023529</td>\n",
              "      <td>0.015686</td>\n",
              "      <td>0.000000</td>\n",
              "      <td>0.082353</td>\n",
              "      <td>0.043137</td>\n",
              "      <td>0.066667</td>\n",
              "      <td>0.082353</td>\n",
              "      <td>0.000000</td>\n",
              "      <td>0.003922</td>\n",
              "      <td>0.043137</td>\n",
              "      <td>0.019608</td>\n",
              "      <td>0.031373</td>\n",
              "      <td>0.035294</td>\n",
              "      <td>0.000000</td>\n",
              "      <td>0.003922</td>\n",
              "      <td>0.054902</td>\n",
              "      <td>0.000000</td>\n",
              "      <td>0.023529</td>\n",
              "      <td>0.000000</td>\n",
              "      <td>0.035294</td>\n",
              "      <td>0.000000</td>\n",
              "      <td>0.015686</td>\n",
              "      <td>...</td>\n",
              "      <td>0.607843</td>\n",
              "      <td>0.525490</td>\n",
              "      <td>0.490196</td>\n",
              "      <td>0.478431</td>\n",
              "      <td>0.431373</td>\n",
              "      <td>0.431373</td>\n",
              "      <td>0.478431</td>\n",
              "      <td>0.509804</td>\n",
              "      <td>0.462745</td>\n",
              "      <td>0.490196</td>\n",
              "      <td>0.431373</td>\n",
              "      <td>0.384314</td>\n",
              "      <td>0.427451</td>\n",
              "      <td>0.431373</td>\n",
              "      <td>0.431373</td>\n",
              "      <td>0.494118</td>\n",
              "      <td>0.674510</td>\n",
              "      <td>0.690196</td>\n",
              "      <td>0.690196</td>\n",
              "      <td>0.666667</td>\n",
              "      <td>0.658824</td>\n",
              "      <td>0.674510</td>\n",
              "      <td>0.690196</td>\n",
              "      <td>0.694118</td>\n",
              "      <td>0.686275</td>\n",
              "      <td>0.678431</td>\n",
              "      <td>0.556863</td>\n",
              "      <td>0.549020</td>\n",
              "      <td>0.372549</td>\n",
              "      <td>0.333333</td>\n",
              "      <td>0.423529</td>\n",
              "      <td>0.564706</td>\n",
              "      <td>0.501961</td>\n",
              "      <td>0.658824</td>\n",
              "      <td>0.462745</td>\n",
              "      <td>0.564706</td>\n",
              "      <td>0.545098</td>\n",
              "      <td>0.521569</td>\n",
              "      <td>0.545098</td>\n",
              "      <td>0.607843</td>\n",
              "    </tr>\n",
              "    <tr>\n",
              "      <th>2</th>\n",
              "      <td>0.792157</td>\n",
              "      <td>0.760784</td>\n",
              "      <td>0.800000</td>\n",
              "      <td>0.756863</td>\n",
              "      <td>0.772549</td>\n",
              "      <td>0.737255</td>\n",
              "      <td>0.764706</td>\n",
              "      <td>0.701961</td>\n",
              "      <td>0.650980</td>\n",
              "      <td>0.494118</td>\n",
              "      <td>0.392157</td>\n",
              "      <td>0.396078</td>\n",
              "      <td>0.431373</td>\n",
              "      <td>0.462745</td>\n",
              "      <td>0.454902</td>\n",
              "      <td>0.400000</td>\n",
              "      <td>0.431373</td>\n",
              "      <td>0.400000</td>\n",
              "      <td>0.454902</td>\n",
              "      <td>0.462745</td>\n",
              "      <td>0.388235</td>\n",
              "      <td>0.431373</td>\n",
              "      <td>0.486275</td>\n",
              "      <td>0.419608</td>\n",
              "      <td>0.478431</td>\n",
              "      <td>0.458824</td>\n",
              "      <td>0.505882</td>\n",
              "      <td>0.498039</td>\n",
              "      <td>0.364706</td>\n",
              "      <td>0.482353</td>\n",
              "      <td>0.200000</td>\n",
              "      <td>0.533333</td>\n",
              "      <td>0.376471</td>\n",
              "      <td>0.262745</td>\n",
              "      <td>0.200000</td>\n",
              "      <td>0.250980</td>\n",
              "      <td>0.223529</td>\n",
              "      <td>0.203922</td>\n",
              "      <td>0.223529</td>\n",
              "      <td>0.180392</td>\n",
              "      <td>...</td>\n",
              "      <td>0.525490</td>\n",
              "      <td>0.462745</td>\n",
              "      <td>0.694118</td>\n",
              "      <td>0.803922</td>\n",
              "      <td>0.815686</td>\n",
              "      <td>0.823529</td>\n",
              "      <td>0.733333</td>\n",
              "      <td>0.843137</td>\n",
              "      <td>0.749020</td>\n",
              "      <td>0.737255</td>\n",
              "      <td>0.533333</td>\n",
              "      <td>0.427451</td>\n",
              "      <td>0.243137</td>\n",
              "      <td>0.298039</td>\n",
              "      <td>0.184314</td>\n",
              "      <td>0.329412</td>\n",
              "      <td>0.356863</td>\n",
              "      <td>0.282353</td>\n",
              "      <td>0.211765</td>\n",
              "      <td>0.219608</td>\n",
              "      <td>0.290196</td>\n",
              "      <td>0.325490</td>\n",
              "      <td>0.274510</td>\n",
              "      <td>0.200000</td>\n",
              "      <td>0.203922</td>\n",
              "      <td>0.231373</td>\n",
              "      <td>0.192157</td>\n",
              "      <td>0.184314</td>\n",
              "      <td>0.254902</td>\n",
              "      <td>0.250980</td>\n",
              "      <td>0.211765</td>\n",
              "      <td>0.243137</td>\n",
              "      <td>0.247059</td>\n",
              "      <td>0.266667</td>\n",
              "      <td>0.235294</td>\n",
              "      <td>0.305882</td>\n",
              "      <td>0.243137</td>\n",
              "      <td>0.298039</td>\n",
              "      <td>0.286275</td>\n",
              "      <td>0.345098</td>\n",
              "    </tr>\n",
              "    <tr>\n",
              "      <th>3</th>\n",
              "      <td>0.435294</td>\n",
              "      <td>0.505882</td>\n",
              "      <td>0.654902</td>\n",
              "      <td>0.356863</td>\n",
              "      <td>0.454902</td>\n",
              "      <td>0.584314</td>\n",
              "      <td>0.317647</td>\n",
              "      <td>0.439216</td>\n",
              "      <td>0.498039</td>\n",
              "      <td>0.552941</td>\n",
              "      <td>0.474510</td>\n",
              "      <td>0.450980</td>\n",
              "      <td>0.454902</td>\n",
              "      <td>0.439216</td>\n",
              "      <td>0.498039</td>\n",
              "      <td>0.505882</td>\n",
              "      <td>0.588235</td>\n",
              "      <td>0.494118</td>\n",
              "      <td>0.701961</td>\n",
              "      <td>0.592157</td>\n",
              "      <td>0.501961</td>\n",
              "      <td>0.611765</td>\n",
              "      <td>0.600000</td>\n",
              "      <td>0.717647</td>\n",
              "      <td>0.396078</td>\n",
              "      <td>0.568627</td>\n",
              "      <td>0.823529</td>\n",
              "      <td>0.415686</td>\n",
              "      <td>0.619608</td>\n",
              "      <td>0.505882</td>\n",
              "      <td>0.658824</td>\n",
              "      <td>0.545098</td>\n",
              "      <td>0.478431</td>\n",
              "      <td>0.419608</td>\n",
              "      <td>0.443137</td>\n",
              "      <td>0.643137</td>\n",
              "      <td>0.498039</td>\n",
              "      <td>0.407843</td>\n",
              "      <td>0.572549</td>\n",
              "      <td>0.592157</td>\n",
              "      <td>...</td>\n",
              "      <td>0.137255</td>\n",
              "      <td>0.176471</td>\n",
              "      <td>0.090196</td>\n",
              "      <td>0.207843</td>\n",
              "      <td>0.172549</td>\n",
              "      <td>0.486275</td>\n",
              "      <td>0.909804</td>\n",
              "      <td>0.901961</td>\n",
              "      <td>0.662745</td>\n",
              "      <td>0.435294</td>\n",
              "      <td>0.325490</td>\n",
              "      <td>0.392157</td>\n",
              "      <td>0.529412</td>\n",
              "      <td>0.149020</td>\n",
              "      <td>0.701961</td>\n",
              "      <td>0.309804</td>\n",
              "      <td>0.537255</td>\n",
              "      <td>0.552941</td>\n",
              "      <td>0.721569</td>\n",
              "      <td>0.400000</td>\n",
              "      <td>0.384314</td>\n",
              "      <td>0.329412</td>\n",
              "      <td>0.419608</td>\n",
              "      <td>0.321569</td>\n",
              "      <td>0.470588</td>\n",
              "      <td>0.458824</td>\n",
              "      <td>0.231373</td>\n",
              "      <td>0.486275</td>\n",
              "      <td>0.403922</td>\n",
              "      <td>0.592157</td>\n",
              "      <td>0.372549</td>\n",
              "      <td>0.364706</td>\n",
              "      <td>0.729412</td>\n",
              "      <td>0.360784</td>\n",
              "      <td>0.384314</td>\n",
              "      <td>0.396078</td>\n",
              "      <td>0.262745</td>\n",
              "      <td>0.352941</td>\n",
              "      <td>0.494118</td>\n",
              "      <td>0.419608</td>\n",
              "    </tr>\n",
              "    <tr>\n",
              "      <th>4</th>\n",
              "      <td>0.360784</td>\n",
              "      <td>0.329412</td>\n",
              "      <td>0.337255</td>\n",
              "      <td>0.313725</td>\n",
              "      <td>0.325490</td>\n",
              "      <td>0.325490</td>\n",
              "      <td>0.325490</td>\n",
              "      <td>0.341176</td>\n",
              "      <td>0.333333</td>\n",
              "      <td>0.333333</td>\n",
              "      <td>0.333333</td>\n",
              "      <td>0.329412</td>\n",
              "      <td>0.329412</td>\n",
              "      <td>0.333333</td>\n",
              "      <td>0.349020</td>\n",
              "      <td>0.360784</td>\n",
              "      <td>0.698039</td>\n",
              "      <td>0.776471</td>\n",
              "      <td>0.831373</td>\n",
              "      <td>0.827451</td>\n",
              "      <td>0.819608</td>\n",
              "      <td>0.835294</td>\n",
              "      <td>0.831373</td>\n",
              "      <td>0.807843</td>\n",
              "      <td>0.800000</td>\n",
              "      <td>0.788235</td>\n",
              "      <td>0.803922</td>\n",
              "      <td>0.792157</td>\n",
              "      <td>0.831373</td>\n",
              "      <td>0.850980</td>\n",
              "      <td>0.803922</td>\n",
              "      <td>0.835294</td>\n",
              "      <td>0.772549</td>\n",
              "      <td>0.807843</td>\n",
              "      <td>0.160784</td>\n",
              "      <td>0.086275</td>\n",
              "      <td>0.431373</td>\n",
              "      <td>0.847059</td>\n",
              "      <td>0.725490</td>\n",
              "      <td>0.850980</td>\n",
              "      <td>...</td>\n",
              "      <td>0.584314</td>\n",
              "      <td>0.639216</td>\n",
              "      <td>0.694118</td>\n",
              "      <td>0.713725</td>\n",
              "      <td>0.682353</td>\n",
              "      <td>0.392157</td>\n",
              "      <td>0.047059</td>\n",
              "      <td>0.000000</td>\n",
              "      <td>0.011765</td>\n",
              "      <td>0.007843</td>\n",
              "      <td>0.003922</td>\n",
              "      <td>0.003922</td>\n",
              "      <td>0.011765</td>\n",
              "      <td>0.011765</td>\n",
              "      <td>0.007843</td>\n",
              "      <td>0.003922</td>\n",
              "      <td>0.011765</td>\n",
              "      <td>0.011765</td>\n",
              "      <td>0.011765</td>\n",
              "      <td>0.011765</td>\n",
              "      <td>0.011765</td>\n",
              "      <td>0.011765</td>\n",
              "      <td>0.011765</td>\n",
              "      <td>0.011765</td>\n",
              "      <td>0.019608</td>\n",
              "      <td>0.015686</td>\n",
              "      <td>0.011765</td>\n",
              "      <td>0.007843</td>\n",
              "      <td>0.007843</td>\n",
              "      <td>0.007843</td>\n",
              "      <td>0.011765</td>\n",
              "      <td>0.015686</td>\n",
              "      <td>0.003922</td>\n",
              "      <td>0.003922</td>\n",
              "      <td>0.007843</td>\n",
              "      <td>0.011765</td>\n",
              "      <td>0.011765</td>\n",
              "      <td>0.015686</td>\n",
              "      <td>0.019608</td>\n",
              "      <td>0.019608</td>\n",
              "    </tr>\n",
              "  </tbody>\n",
              "</table>\n",
              "<p>5 rows × 4096 columns</p>\n",
              "</div>"
            ],
            "text/plain": [
              "     pixel1    pixel2    pixel3  ...  pixel4094  pixel4095  pixel4096\n",
              "0  0.764706  0.768627  0.776471  ...   0.666667   0.666667   0.647059\n",
              "1  0.039216  0.027451  0.015686  ...   0.521569   0.545098   0.607843\n",
              "2  0.792157  0.760784  0.800000  ...   0.298039   0.286275   0.345098\n",
              "3  0.435294  0.505882  0.654902  ...   0.352941   0.494118   0.419608\n",
              "4  0.360784  0.329412  0.337255  ...   0.015686   0.019608   0.019608\n",
              "\n",
              "[5 rows x 4096 columns]"
            ]
          },
          "metadata": {
            "tags": []
          },
          "execution_count": 19
        }
      ]
    },
    {
      "cell_type": "markdown",
      "metadata": {
        "id": "zHcuisbMPs9X"
      },
      "source": [
        "### Reshape image data to (nimg, img_rows, img_cols, 1) shape.\n",
        "\n",
        "- Use **ntrain** as **nimg**.\n",
        "\n",
        "- Use **dim** as **img_rows**, and **img_cols**."
      ]
    },
    {
      "cell_type": "code",
      "metadata": {
        "id": "Fae2SIhKHctB",
        "colab": {
          "base_uri": "https://localhost:8080/"
        },
        "outputId": "8b066f9b-d253-4314-8b55-881196ded85d"
      },
      "source": [
        "print(\"Previous shape, pixels are in 1D vector:\", X.shape)"
      ],
      "execution_count": null,
      "outputs": [
        {
          "output_type": "stream",
          "text": [
            "Previous shape, pixels are in 1D vector: (3000, 4096)\n"
          ],
          "name": "stdout"
        }
      ]
    },
    {
      "cell_type": "code",
      "metadata": {
        "id": "D7ZUz7gTtUGt"
      },
      "source": [
        "def reshape_X_4d(X):\n",
        "    X = X.values.reshape(-1, 64, 64, 1) # Write code to reshape X to the specified format.\n",
        "    \n",
        "    return X"
      ],
      "execution_count": null,
      "outputs": []
    },
    {
      "cell_type": "code",
      "metadata": {
        "id": "c15PtgxMPs9Y"
      },
      "source": [
        "X = reshape_X_4d(X)"
      ],
      "execution_count": null,
      "outputs": []
    },
    {
      "cell_type": "code",
      "metadata": {
        "id": "uPvTbj4CHjLe",
        "colab": {
          "base_uri": "https://localhost:8080/"
        },
        "outputId": "40b504cb-674f-4564-ca49-c58c9df0159e"
      },
      "source": [
        "print(\"After reshape, pixels are a 64x64x1 3D matrix:\", X.shape)"
      ],
      "execution_count": null,
      "outputs": [
        {
          "output_type": "stream",
          "text": [
            "After reshape, pixels are a 64x64x1 3D matrix: (3000, 64, 64, 1)\n"
          ],
          "name": "stdout"
        }
      ]
    },
    {
      "cell_type": "markdown",
      "metadata": {
        "id": "NRjzd8F0Ps9c"
      },
      "source": [
        "### Perform One Hot Encoding or Dummy Encoding of label **y**.\n",
        "\n",
        "- Use **pd.get_dummies()** to perform this process."
      ]
    },
    {
      "cell_type": "code",
      "metadata": {
        "id": "be8P_Ei7M804",
        "colab": {
          "base_uri": "https://localhost:8080/"
        },
        "outputId": "0aaa6cca-83e0-4090-a9ae-b9e198277948"
      },
      "source": [
        "print(type(y))"
      ],
      "execution_count": null,
      "outputs": [
        {
          "output_type": "stream",
          "text": [
            "<class 'pandas.core.series.Series'>\n"
          ],
          "name": "stdout"
        }
      ]
    },
    {
      "cell_type": "code",
      "metadata": {
        "id": "8vmCqzKlITJe",
        "colab": {
          "base_uri": "https://localhost:8080/"
        },
        "outputId": "be4d04cb-b6e0-42b7-9e72-60b0ee121053"
      },
      "source": [
        "print(\"Shape of y before: \", y.shape)"
      ],
      "execution_count": null,
      "outputs": [
        {
          "output_type": "stream",
          "text": [
            "Shape of y before:  (3000,)\n"
          ],
          "name": "stdout"
        }
      ]
    },
    {
      "cell_type": "code",
      "metadata": {
        "id": "TN_IP4gtIYS0"
      },
      "source": [
        "def ohe_y(y):\n",
        "    y = pd.get_dummies(y)# Write code to one hot encode y.\n",
        "\n",
        "    return y"
      ],
      "execution_count": null,
      "outputs": []
    },
    {
      "cell_type": "code",
      "metadata": {
        "id": "a2g4unmdISvS"
      },
      "source": [
        "y = ohe_y(y)"
      ],
      "execution_count": null,
      "outputs": []
    },
    {
      "cell_type": "code",
      "metadata": {
        "id": "4Xz-RDHAPs9d",
        "colab": {
          "base_uri": "https://localhost:8080/"
        },
        "outputId": "cbaccc2e-254c-49a5-d515-8642dc579287"
      },
      "source": [
        "print(\"Shape of y after: \", y.shape)\n",
        "print(type(y))"
      ],
      "execution_count": null,
      "outputs": [
        {
          "output_type": "stream",
          "text": [
            "Shape of y after:  (3000, 3)\n",
            "<class 'pandas.core.frame.DataFrame'>\n"
          ],
          "name": "stdout"
        }
      ]
    },
    {
      "cell_type": "code",
      "metadata": {
        "id": "-UaoKWUbwMXj",
        "colab": {
          "base_uri": "https://localhost:8080/"
        },
        "outputId": "4462ba21-ca5d-46f0-fcb5-ad8cc35d2d8c"
      },
      "source": [
        "y = y.values\n",
        "type(y)"
      ],
      "execution_count": null,
      "outputs": [
        {
          "output_type": "execute_result",
          "data": {
            "text/plain": [
              "numpy.ndarray"
            ]
          },
          "metadata": {
            "tags": []
          },
          "execution_count": 29
        }
      ]
    },
    {
      "cell_type": "code",
      "metadata": {
        "colab": {
          "base_uri": "https://localhost:8080/"
        },
        "id": "uqg57smj2TG9",
        "outputId": "22c0544a-486d-4fef-cf49-574d415bb401"
      },
      "source": [
        "X.shape"
      ],
      "execution_count": null,
      "outputs": [
        {
          "output_type": "execute_result",
          "data": {
            "text/plain": [
              "(3000, 64, 64, 1)"
            ]
          },
          "metadata": {
            "tags": []
          },
          "execution_count": 30
        }
      ]
    },
    {
      "cell_type": "code",
      "metadata": {
        "colab": {
          "base_uri": "https://localhost:8080/"
        },
        "id": "GoJ4pq_-3dIJ",
        "outputId": "1a681017-871a-4de2-d0a0-47f0fe150a2e"
      },
      "source": [
        "y.shape"
      ],
      "execution_count": null,
      "outputs": [
        {
          "output_type": "execute_result",
          "data": {
            "text/plain": [
              "(3000, 3)"
            ]
          },
          "metadata": {
            "tags": []
          },
          "execution_count": 31
        }
      ]
    },
    {
      "cell_type": "markdown",
      "metadata": {
        "id": "9QYrq7FMPs9g"
      },
      "source": [
        "### Split the dataset into training and validation sets.\n",
        "\n",
        "- Use **test_size** = **split_pct**\n",
        "\n",
        "- Use **random_state** = **seed**"
      ]
    },
    {
      "cell_type": "code",
      "metadata": {
        "id": "sLXLUHi8fmO0"
      },
      "source": [
        "from sklearn.model_selection import train_test_split"
      ],
      "execution_count": null,
      "outputs": []
    },
    {
      "cell_type": "code",
      "metadata": {
        "id": "Hsuyg8NafmZe"
      },
      "source": [
        "# fixing random seed for reproducibility\n",
        "seed = 142"
      ],
      "execution_count": null,
      "outputs": []
    },
    {
      "cell_type": "code",
      "metadata": {
        "id": "z4MiHTsTfpNy"
      },
      "source": [
        "# percentage of X which will be xval\n",
        "split_pct = 0.1"
      ],
      "execution_count": null,
      "outputs": []
    },
    {
      "cell_type": "code",
      "metadata": {
        "id": "YxKHnVo-JBuv"
      },
      "source": [
        "def train_val_split(X, y, seed, split_pct):\n",
        "    xtrain, xval, ytrain, yval = train_test_split(X, y, test_size = 0.1 , random_state = seed) # Write code to split X and y into train and validation sets.\n",
        "\n",
        "    return xtrain, xval, ytrain, yval"
      ],
      "execution_count": null,
      "outputs": []
    },
    {
      "cell_type": "code",
      "metadata": {
        "id": "M_FySNX6frja"
      },
      "source": [
        "xtrain, xval, ytrain, yval = train_val_split(X, y, seed, split_pct)"
      ],
      "execution_count": null,
      "outputs": []
    },
    {
      "cell_type": "code",
      "metadata": {
        "id": "Gcho74UOPs9h",
        "colab": {
          "base_uri": "https://localhost:8080/"
        },
        "outputId": "16011319-18a8-4a76-fb79-d307e63f43e4"
      },
      "source": [
        "print(xtrain.shape, ytrain.shape, xval.shape, yval.shape)"
      ],
      "execution_count": null,
      "outputs": [
        {
          "output_type": "stream",
          "text": [
            "(2700, 64, 64, 1) (2700, 3) (300, 64, 64, 1) (300, 3)\n"
          ],
          "name": "stdout"
        }
      ]
    },
    {
      "cell_type": "markdown",
      "metadata": {
        "id": "_qBrq0_uPs9o"
      },
      "source": [
        "## CNN Model"
      ]
    },
    {
      "cell_type": "code",
      "metadata": {
        "id": "aocz593fftSo"
      },
      "source": [
        "from keras.models import Sequential\n",
        "from keras.layers import Dense, Dropout, Flatten\n",
        "from keras.layers import Conv2D, MaxPool2D"
      ],
      "execution_count": null,
      "outputs": []
    },
    {
      "cell_type": "code",
      "metadata": {
        "id": "Axx6e_HBPs9q"
      },
      "source": [
        "from keras.preprocessing.image import ImageDataGenerator\n",
        "from keras.callbacks import ReduceLROnPlateau"
      ],
      "execution_count": null,
      "outputs": []
    },
    {
      "cell_type": "markdown",
      "metadata": {
        "id": "9I0o6GHAPs9x"
      },
      "source": [
        "### Model Architecture\n",
        "\n",
        "- Specify **input_shape=(dim,dim,1)** in 1st layer.\n",
        "\n",
        "- Specify **nclasses** as the number of hidden units in the last layer of the model with appropriate activation function."
      ]
    },
    {
      "cell_type": "code",
      "metadata": {
        "id": "u0B_HPr1ftYc"
      },
      "source": [
        "dim = 64\n",
        "nclasses = 3"
      ],
      "execution_count": null,
      "outputs": []
    },
    {
      "cell_type": "code",
      "metadata": {
        "id": "Cr5Xz023KvSo"
      },
      "source": [
        "def build_model(dim, nclasses):\n",
        "    # Build your model here.\n",
        "    model =Sequential()\n",
        "    model.add(Conv2D(filters=32, kernel_size=(5,5), padding='same', activation='relu', input_shape=(dim,dim,1)))\n",
        "    model.add(Conv2D(filters=32, kernel_size=(5,5), padding='same', activation='relu',))\n",
        "    model.add(MaxPool2D(pool_size=(2,2), strides=(2,2)))\n",
        "    model.add(Dropout(0.2))\n",
        "\n",
        "    model.add(Conv2D(filters=64, kernel_size=(5,5), padding='same', activation='relu'))\n",
        "    model.add(Conv2D(filters=64, kernel_size=(5,5), padding='same', activation='relu'))\n",
        "    model.add(MaxPool2D(pool_size=(2,2), strides=(2,2)))\n",
        "    model.add(Dropout(0.2))\n",
        "\n",
        "    model.add(Flatten())\n",
        "    model.add(Dense(120, activation='relu'))\n",
        "    model.add(Dense(84, activation='relu'))\n",
        "    model.add(Dense(nclasses, activation='softmax'))\n",
        "\n",
        "\n",
        "    return model"
      ],
      "execution_count": null,
      "outputs": []
    },
    {
      "cell_type": "code",
      "metadata": {
        "id": "GejZM1LYLR1t"
      },
      "source": [
        "model = build_model(dim, nclasses)"
      ],
      "execution_count": null,
      "outputs": []
    },
    {
      "cell_type": "code",
      "metadata": {
        "id": "tc6hnkadPs93",
        "colab": {
          "base_uri": "https://localhost:8080/"
        },
        "outputId": "b352966f-749f-43db-f9a2-999fcbca68b3"
      },
      "source": [
        "model.summary()"
      ],
      "execution_count": null,
      "outputs": [
        {
          "output_type": "stream",
          "text": [
            "Model: \"sequential\"\n",
            "_________________________________________________________________\n",
            "Layer (type)                 Output Shape              Param #   \n",
            "=================================================================\n",
            "conv2d (Conv2D)              (None, 64, 64, 32)        832       \n",
            "_________________________________________________________________\n",
            "conv2d_1 (Conv2D)            (None, 64, 64, 32)        25632     \n",
            "_________________________________________________________________\n",
            "max_pooling2d (MaxPooling2D) (None, 32, 32, 32)        0         \n",
            "_________________________________________________________________\n",
            "dropout (Dropout)            (None, 32, 32, 32)        0         \n",
            "_________________________________________________________________\n",
            "conv2d_2 (Conv2D)            (None, 32, 32, 64)        51264     \n",
            "_________________________________________________________________\n",
            "conv2d_3 (Conv2D)            (None, 32, 32, 64)        102464    \n",
            "_________________________________________________________________\n",
            "max_pooling2d_1 (MaxPooling2 (None, 16, 16, 64)        0         \n",
            "_________________________________________________________________\n",
            "dropout_1 (Dropout)          (None, 16, 16, 64)        0         \n",
            "_________________________________________________________________\n",
            "flatten (Flatten)            (None, 16384)             0         \n",
            "_________________________________________________________________\n",
            "dense (Dense)                (None, 120)               1966200   \n",
            "_________________________________________________________________\n",
            "dense_1 (Dense)              (None, 84)                10164     \n",
            "_________________________________________________________________\n",
            "dense_2 (Dense)              (None, 3)                 255       \n",
            "=================================================================\n",
            "Total params: 2,156,811\n",
            "Trainable params: 2,156,811\n",
            "Non-trainable params: 0\n",
            "_________________________________________________________________\n"
          ],
          "name": "stdout"
        }
      ]
    },
    {
      "cell_type": "markdown",
      "metadata": {
        "id": "_ZJPQFHKPs95"
      },
      "source": [
        "### Compile the model\n",
        "\n",
        "- Use **adam** as the **optimizer**.\n",
        "\n",
        "- Use **accuracy** as the **metrics**."
      ]
    },
    {
      "cell_type": "code",
      "metadata": {
        "id": "z6W1VaKqMX7x"
      },
      "source": [
        "def compile_model(model):\n",
        "    # Compile your model here.\n",
        "    model.compile(optimizer=\"adam\", loss=\"categorical_crossentropy\", metrics=[\"accuracy\"])\n",
        "    return model"
      ],
      "execution_count": null,
      "outputs": []
    },
    {
      "cell_type": "code",
      "metadata": {
        "id": "lQbaaFytPs96"
      },
      "source": [
        "model = compile_model(model)"
      ],
      "execution_count": null,
      "outputs": []
    },
    {
      "cell_type": "markdown",
      "metadata": {
        "id": "Vieyw4NOPs99"
      },
      "source": [
        "### Create a Learning Rate Annealer\n",
        "\n",
        "- It should monitor **val_acc**.\n",
        "\n",
        "- It should have **patience=3**, **factor=0.5**, and **min_lr=0.00001**."
      ]
    },
    {
      "cell_type": "code",
      "metadata": {
        "id": "00pl_9y3MjSd"
      },
      "source": [
        "def lr_annealer():\n",
        "    lr_reduction = ReduceLROnPlateau(monitor='val_acc', \n",
        "                                 patience=3, \n",
        "                                 verbose=1, \n",
        "                                 factor=0.5, \n",
        "                                 min_lr=0.00001)  # Create a Learning Rate Annealer here.\n",
        "\n",
        "    return lr_reduction"
      ],
      "execution_count": null,
      "outputs": []
    },
    {
      "cell_type": "code",
      "metadata": {
        "id": "ZvCE-iUYPs9_"
      },
      "source": [
        "lr_reduction = lr_annealer()"
      ],
      "execution_count": null,
      "outputs": []
    },
    {
      "cell_type": "markdown",
      "metadata": {
        "id": "mpd_rm5bPs-C"
      },
      "source": [
        "### Data Augmentation\n",
        "\n",
        "- The process of Data Augmentation will be taught in-depth in Computer Vision - II."
      ]
    },
    {
      "cell_type": "code",
      "metadata": {
        "id": "CaCgYFkuPs-D"
      },
      "source": [
        "datagen = ImageDataGenerator(\n",
        "          featurewise_center=False,            # set input mean to 0 over the dataset\n",
        "          samplewise_center=False,             # set each sample mean to 0\n",
        "          featurewise_std_normalization=False, # divide inputs by std of the dataset\n",
        "          samplewise_std_normalization=False,  # divide each input by its std\n",
        "          zca_whitening=False,                 # apply ZCA whitening\n",
        "          rotation_range=30,                   # randomly rotate images in the range (degrees, 0 to 180)\n",
        "          zoom_range = 0.1,                    # Randomly zoom image \n",
        "          width_shift_range=0.1,               # randomly shift images horizontally (fraction of total width)\n",
        "          height_shift_range=0.1,              # randomly shift images vertically (fraction of total height)\n",
        "          horizontal_flip=False,               # randomly flip images horizontally\n",
        "          vertical_flip=False                  # randomly flip images vertically\n",
        "          )"
      ],
      "execution_count": null,
      "outputs": []
    },
    {
      "cell_type": "code",
      "metadata": {
        "id": "NQqvYlB7yE-K"
      },
      "source": [
        "#datagen.fit(X)\n",
        "datagen.fit(xtrain)"
      ],
      "execution_count": null,
      "outputs": []
    },
    {
      "cell_type": "markdown",
      "metadata": {
        "id": "xFVsas7ePs-K"
      },
      "source": [
        "### Fit the model\n",
        "\n",
        "- Use **fit_generator** for fitting the model with the training data **xtrain**, **ytrain** and **batch_size** inside **datagen.flow**\n",
        "\n",
        "- Use **epochs=epochs**.\n",
        "\n",
        "- Specify **xval, yval** as the **validation_data**.\n",
        "\n",
        "- Also, specify the **lr_reduction** as the callback.\n",
        "\n",
        "- Properly compute the **steps_per_epoch** using the **batch_size**."
      ]
    },
    {
      "cell_type": "code",
      "metadata": {
        "id": "Fpe7BaR5Ps-H"
      },
      "source": [
        "epochs = 100\n",
        "batch_size = 64"
      ],
      "execution_count": null,
      "outputs": []
    },
    {
      "cell_type": "code",
      "metadata": {
        "id": "iaP67wAaO12o"
      },
      "source": [
        "def fit_model(model, epochs, batch_size):\n",
        "    history = model.fit_generator(datagen.flow(xtrain, ytrain, batch_size = batch_size), \n",
        "                                  epochs = epochs, validation_data = (xval, yval), \n",
        "                                  verbose = 1, steps_per_epoch = xtrain.shape[0]/batch_size,\n",
        "                                  callbacks = lr_reduction) # Fit your model here.      \n",
        "    return model, history"
      ],
      "execution_count": null,
      "outputs": []
    },
    {
      "cell_type": "code",
      "metadata": {
        "id": "EAnCqzRZPs-M",
        "colab": {
          "base_uri": "https://localhost:8080/"
        },
        "outputId": "97eadd6f-742b-4f2d-c6fd-0f658d5f18e1"
      },
      "source": [
        "model, history = fit_model(model, epochs, batch_size)"
      ],
      "execution_count": null,
      "outputs": [
        {
          "output_type": "stream",
          "text": [
            "/usr/local/lib/python3.7/dist-packages/keras/engine/training.py:1915: UserWarning: `Model.fit_generator` is deprecated and will be removed in a future version. Please use `Model.fit`, which supports generators.\n",
            "  warnings.warn('`Model.fit_generator` is deprecated and '\n"
          ],
          "name": "stderr"
        },
        {
          "output_type": "stream",
          "text": [
            "Epoch 1/100\n",
            "42/42 [==============================] - 47s 73ms/step - loss: 1.1162 - accuracy: 0.3855 - val_loss: 1.0464 - val_accuracy: 0.4567\n",
            "WARNING:tensorflow:Learning rate reduction is conditioned on metric `val_acc` which is not available. Available metrics are: loss,accuracy,val_loss,val_accuracy,lr\n",
            "Epoch 2/100\n",
            "42/42 [==============================] - 2s 43ms/step - loss: 0.9351 - accuracy: 0.5159 - val_loss: 0.8952 - val_accuracy: 0.5933\n",
            "WARNING:tensorflow:Learning rate reduction is conditioned on metric `val_acc` which is not available. Available metrics are: loss,accuracy,val_loss,val_accuracy,lr\n",
            "Epoch 3/100\n",
            "42/42 [==============================] - 2s 43ms/step - loss: 0.8073 - accuracy: 0.5945 - val_loss: 0.7607 - val_accuracy: 0.6300\n",
            "WARNING:tensorflow:Learning rate reduction is conditioned on metric `val_acc` which is not available. Available metrics are: loss,accuracy,val_loss,val_accuracy,lr\n",
            "Epoch 4/100\n",
            "42/42 [==============================] - 2s 43ms/step - loss: 0.7689 - accuracy: 0.6198 - val_loss: 0.7219 - val_accuracy: 0.6400\n",
            "WARNING:tensorflow:Learning rate reduction is conditioned on metric `val_acc` which is not available. Available metrics are: loss,accuracy,val_loss,val_accuracy,lr\n",
            "Epoch 5/100\n",
            "42/42 [==============================] - 2s 44ms/step - loss: 0.7518 - accuracy: 0.6480 - val_loss: 0.7449 - val_accuracy: 0.6167\n",
            "WARNING:tensorflow:Learning rate reduction is conditioned on metric `val_acc` which is not available. Available metrics are: loss,accuracy,val_loss,val_accuracy,lr\n",
            "Epoch 6/100\n",
            "42/42 [==============================] - 2s 43ms/step - loss: 0.7369 - accuracy: 0.6262 - val_loss: 0.7226 - val_accuracy: 0.6300\n",
            "WARNING:tensorflow:Learning rate reduction is conditioned on metric `val_acc` which is not available. Available metrics are: loss,accuracy,val_loss,val_accuracy,lr\n",
            "Epoch 7/100\n",
            "42/42 [==============================] - 2s 43ms/step - loss: 0.6978 - accuracy: 0.6577 - val_loss: 0.7306 - val_accuracy: 0.6367\n",
            "WARNING:tensorflow:Learning rate reduction is conditioned on metric `val_acc` which is not available. Available metrics are: loss,accuracy,val_loss,val_accuracy,lr\n",
            "Epoch 8/100\n",
            "42/42 [==============================] - 2s 44ms/step - loss: 0.6960 - accuracy: 0.6387 - val_loss: 0.7309 - val_accuracy: 0.6067\n",
            "WARNING:tensorflow:Learning rate reduction is conditioned on metric `val_acc` which is not available. Available metrics are: loss,accuracy,val_loss,val_accuracy,lr\n",
            "Epoch 9/100\n",
            "42/42 [==============================] - 2s 44ms/step - loss: 0.6916 - accuracy: 0.6680 - val_loss: 0.7903 - val_accuracy: 0.6267\n",
            "WARNING:tensorflow:Learning rate reduction is conditioned on metric `val_acc` which is not available. Available metrics are: loss,accuracy,val_loss,val_accuracy,lr\n",
            "Epoch 10/100\n",
            "42/42 [==============================] - 2s 45ms/step - loss: 0.6918 - accuracy: 0.6645 - val_loss: 0.8446 - val_accuracy: 0.5967\n",
            "WARNING:tensorflow:Learning rate reduction is conditioned on metric `val_acc` which is not available. Available metrics are: loss,accuracy,val_loss,val_accuracy,lr\n",
            "Epoch 11/100\n",
            "42/42 [==============================] - 2s 56ms/step - loss: 0.7170 - accuracy: 0.6460 - val_loss: 0.7942 - val_accuracy: 0.6500\n",
            "WARNING:tensorflow:Learning rate reduction is conditioned on metric `val_acc` which is not available. Available metrics are: loss,accuracy,val_loss,val_accuracy,lr\n",
            "Epoch 12/100\n",
            "42/42 [==============================] - 2s 44ms/step - loss: 0.6824 - accuracy: 0.6659 - val_loss: 0.7611 - val_accuracy: 0.6367\n",
            "WARNING:tensorflow:Learning rate reduction is conditioned on metric `val_acc` which is not available. Available metrics are: loss,accuracy,val_loss,val_accuracy,lr\n",
            "Epoch 13/100\n",
            "42/42 [==============================] - 2s 43ms/step - loss: 0.6278 - accuracy: 0.7059 - val_loss: 0.6916 - val_accuracy: 0.7000\n",
            "WARNING:tensorflow:Learning rate reduction is conditioned on metric `val_acc` which is not available. Available metrics are: loss,accuracy,val_loss,val_accuracy,lr\n",
            "Epoch 14/100\n",
            "42/42 [==============================] - 2s 43ms/step - loss: 0.6397 - accuracy: 0.6850 - val_loss: 0.8234 - val_accuracy: 0.6567\n",
            "WARNING:tensorflow:Learning rate reduction is conditioned on metric `val_acc` which is not available. Available metrics are: loss,accuracy,val_loss,val_accuracy,lr\n",
            "Epoch 15/100\n",
            "42/42 [==============================] - 2s 43ms/step - loss: 0.6447 - accuracy: 0.7072 - val_loss: 0.6586 - val_accuracy: 0.7000\n",
            "WARNING:tensorflow:Learning rate reduction is conditioned on metric `val_acc` which is not available. Available metrics are: loss,accuracy,val_loss,val_accuracy,lr\n",
            "Epoch 16/100\n",
            "42/42 [==============================] - 2s 45ms/step - loss: 0.6162 - accuracy: 0.7047 - val_loss: 0.7172 - val_accuracy: 0.6367\n",
            "WARNING:tensorflow:Learning rate reduction is conditioned on metric `val_acc` which is not available. Available metrics are: loss,accuracy,val_loss,val_accuracy,lr\n",
            "Epoch 17/100\n",
            "42/42 [==============================] - 2s 43ms/step - loss: 0.6098 - accuracy: 0.7129 - val_loss: 0.7047 - val_accuracy: 0.6567\n",
            "WARNING:tensorflow:Learning rate reduction is conditioned on metric `val_acc` which is not available. Available metrics are: loss,accuracy,val_loss,val_accuracy,lr\n",
            "Epoch 18/100\n",
            "42/42 [==============================] - 2s 43ms/step - loss: 0.6369 - accuracy: 0.6826 - val_loss: 0.7296 - val_accuracy: 0.6867\n",
            "WARNING:tensorflow:Learning rate reduction is conditioned on metric `val_acc` which is not available. Available metrics are: loss,accuracy,val_loss,val_accuracy,lr\n",
            "Epoch 19/100\n",
            "42/42 [==============================] - 2s 44ms/step - loss: 0.5796 - accuracy: 0.7264 - val_loss: 0.6592 - val_accuracy: 0.6933\n",
            "WARNING:tensorflow:Learning rate reduction is conditioned on metric `val_acc` which is not available. Available metrics are: loss,accuracy,val_loss,val_accuracy,lr\n",
            "Epoch 20/100\n",
            "42/42 [==============================] - 2s 46ms/step - loss: 0.5838 - accuracy: 0.7199 - val_loss: 0.7003 - val_accuracy: 0.7133\n",
            "WARNING:tensorflow:Learning rate reduction is conditioned on metric `val_acc` which is not available. Available metrics are: loss,accuracy,val_loss,val_accuracy,lr\n",
            "Epoch 21/100\n",
            "42/42 [==============================] - 2s 45ms/step - loss: 0.5875 - accuracy: 0.7097 - val_loss: 0.6413 - val_accuracy: 0.7200\n",
            "WARNING:tensorflow:Learning rate reduction is conditioned on metric `val_acc` which is not available. Available metrics are: loss,accuracy,val_loss,val_accuracy,lr\n",
            "Epoch 22/100\n",
            "42/42 [==============================] - 2s 44ms/step - loss: 0.5686 - accuracy: 0.7245 - val_loss: 0.7723 - val_accuracy: 0.6633\n",
            "WARNING:tensorflow:Learning rate reduction is conditioned on metric `val_acc` which is not available. Available metrics are: loss,accuracy,val_loss,val_accuracy,lr\n",
            "Epoch 23/100\n",
            "42/42 [==============================] - 2s 43ms/step - loss: 0.5585 - accuracy: 0.7305 - val_loss: 0.7409 - val_accuracy: 0.6867\n",
            "WARNING:tensorflow:Learning rate reduction is conditioned on metric `val_acc` which is not available. Available metrics are: loss,accuracy,val_loss,val_accuracy,lr\n",
            "Epoch 24/100\n",
            "42/42 [==============================] - 2s 46ms/step - loss: 0.5702 - accuracy: 0.7384 - val_loss: 0.6521 - val_accuracy: 0.7233\n",
            "WARNING:tensorflow:Learning rate reduction is conditioned on metric `val_acc` which is not available. Available metrics are: loss,accuracy,val_loss,val_accuracy,lr\n",
            "Epoch 25/100\n",
            "42/42 [==============================] - 2s 46ms/step - loss: 0.5330 - accuracy: 0.7665 - val_loss: 0.6614 - val_accuracy: 0.7033\n",
            "WARNING:tensorflow:Learning rate reduction is conditioned on metric `val_acc` which is not available. Available metrics are: loss,accuracy,val_loss,val_accuracy,lr\n",
            "Epoch 26/100\n",
            "42/42 [==============================] - 2s 44ms/step - loss: 0.5101 - accuracy: 0.7689 - val_loss: 0.6171 - val_accuracy: 0.7367\n",
            "WARNING:tensorflow:Learning rate reduction is conditioned on metric `val_acc` which is not available. Available metrics are: loss,accuracy,val_loss,val_accuracy,lr\n",
            "Epoch 27/100\n",
            "42/42 [==============================] - 2s 44ms/step - loss: 0.5457 - accuracy: 0.7452 - val_loss: 0.6605 - val_accuracy: 0.7233\n",
            "WARNING:tensorflow:Learning rate reduction is conditioned on metric `val_acc` which is not available. Available metrics are: loss,accuracy,val_loss,val_accuracy,lr\n",
            "Epoch 28/100\n",
            "42/42 [==============================] - 2s 43ms/step - loss: 0.5287 - accuracy: 0.7571 - val_loss: 0.7487 - val_accuracy: 0.7067\n",
            "WARNING:tensorflow:Learning rate reduction is conditioned on metric `val_acc` which is not available. Available metrics are: loss,accuracy,val_loss,val_accuracy,lr\n",
            "Epoch 29/100\n",
            "42/42 [==============================] - 2s 43ms/step - loss: 0.5160 - accuracy: 0.7558 - val_loss: 0.5559 - val_accuracy: 0.7433\n",
            "WARNING:tensorflow:Learning rate reduction is conditioned on metric `val_acc` which is not available. Available metrics are: loss,accuracy,val_loss,val_accuracy,lr\n",
            "Epoch 30/100\n",
            "42/42 [==============================] - 2s 43ms/step - loss: 0.5119 - accuracy: 0.7588 - val_loss: 0.5927 - val_accuracy: 0.7600\n",
            "WARNING:tensorflow:Learning rate reduction is conditioned on metric `val_acc` which is not available. Available metrics are: loss,accuracy,val_loss,val_accuracy,lr\n",
            "Epoch 31/100\n",
            "42/42 [==============================] - 2s 43ms/step - loss: 0.4969 - accuracy: 0.7597 - val_loss: 0.5569 - val_accuracy: 0.7500\n",
            "WARNING:tensorflow:Learning rate reduction is conditioned on metric `val_acc` which is not available. Available metrics are: loss,accuracy,val_loss,val_accuracy,lr\n",
            "Epoch 32/100\n",
            "42/42 [==============================] - 2s 44ms/step - loss: 0.5096 - accuracy: 0.7618 - val_loss: 0.6877 - val_accuracy: 0.7433\n",
            "WARNING:tensorflow:Learning rate reduction is conditioned on metric `val_acc` which is not available. Available metrics are: loss,accuracy,val_loss,val_accuracy,lr\n",
            "Epoch 33/100\n",
            "42/42 [==============================] - 2s 43ms/step - loss: 0.4451 - accuracy: 0.7953 - val_loss: 0.7324 - val_accuracy: 0.6833\n",
            "WARNING:tensorflow:Learning rate reduction is conditioned on metric `val_acc` which is not available. Available metrics are: loss,accuracy,val_loss,val_accuracy,lr\n",
            "Epoch 34/100\n",
            "42/42 [==============================] - 2s 43ms/step - loss: 0.5005 - accuracy: 0.7538 - val_loss: 0.6572 - val_accuracy: 0.7133\n",
            "WARNING:tensorflow:Learning rate reduction is conditioned on metric `val_acc` which is not available. Available metrics are: loss,accuracy,val_loss,val_accuracy,lr\n",
            "Epoch 35/100\n",
            "42/42 [==============================] - 2s 43ms/step - loss: 0.4719 - accuracy: 0.7828 - val_loss: 0.5914 - val_accuracy: 0.7300\n",
            "WARNING:tensorflow:Learning rate reduction is conditioned on metric `val_acc` which is not available. Available metrics are: loss,accuracy,val_loss,val_accuracy,lr\n",
            "Epoch 36/100\n",
            "42/42 [==============================] - 3s 63ms/step - loss: 0.4461 - accuracy: 0.8035 - val_loss: 0.5803 - val_accuracy: 0.7467\n",
            "WARNING:tensorflow:Learning rate reduction is conditioned on metric `val_acc` which is not available. Available metrics are: loss,accuracy,val_loss,val_accuracy,lr\n",
            "Epoch 37/100\n",
            "42/42 [==============================] - 2s 44ms/step - loss: 0.5021 - accuracy: 0.7617 - val_loss: 0.7014 - val_accuracy: 0.7167\n",
            "WARNING:tensorflow:Learning rate reduction is conditioned on metric `val_acc` which is not available. Available metrics are: loss,accuracy,val_loss,val_accuracy,lr\n",
            "Epoch 38/100\n",
            "42/42 [==============================] - 2s 43ms/step - loss: 0.4349 - accuracy: 0.7971 - val_loss: 0.6774 - val_accuracy: 0.6933\n",
            "WARNING:tensorflow:Learning rate reduction is conditioned on metric `val_acc` which is not available. Available metrics are: loss,accuracy,val_loss,val_accuracy,lr\n",
            "Epoch 39/100\n",
            "42/42 [==============================] - 2s 42ms/step - loss: 0.4371 - accuracy: 0.7992 - val_loss: 0.6439 - val_accuracy: 0.7333\n",
            "WARNING:tensorflow:Learning rate reduction is conditioned on metric `val_acc` which is not available. Available metrics are: loss,accuracy,val_loss,val_accuracy,lr\n",
            "Epoch 40/100\n",
            "42/42 [==============================] - 2s 43ms/step - loss: 0.4082 - accuracy: 0.8169 - val_loss: 0.6242 - val_accuracy: 0.7300\n",
            "WARNING:tensorflow:Learning rate reduction is conditioned on metric `val_acc` which is not available. Available metrics are: loss,accuracy,val_loss,val_accuracy,lr\n",
            "Epoch 41/100\n",
            "42/42 [==============================] - 2s 43ms/step - loss: 0.4300 - accuracy: 0.8051 - val_loss: 0.5384 - val_accuracy: 0.7600\n",
            "WARNING:tensorflow:Learning rate reduction is conditioned on metric `val_acc` which is not available. Available metrics are: loss,accuracy,val_loss,val_accuracy,lr\n",
            "Epoch 42/100\n",
            "42/42 [==============================] - 2s 58ms/step - loss: 0.4203 - accuracy: 0.8103 - val_loss: 0.5547 - val_accuracy: 0.7500\n",
            "WARNING:tensorflow:Learning rate reduction is conditioned on metric `val_acc` which is not available. Available metrics are: loss,accuracy,val_loss,val_accuracy,lr\n",
            "Epoch 43/100\n",
            "42/42 [==============================] - 2s 42ms/step - loss: 0.4275 - accuracy: 0.8112 - val_loss: 0.6468 - val_accuracy: 0.7533\n",
            "WARNING:tensorflow:Learning rate reduction is conditioned on metric `val_acc` which is not available. Available metrics are: loss,accuracy,val_loss,val_accuracy,lr\n",
            "Epoch 44/100\n",
            "42/42 [==============================] - 2s 42ms/step - loss: 0.4027 - accuracy: 0.8251 - val_loss: 0.6442 - val_accuracy: 0.7233\n",
            "WARNING:tensorflow:Learning rate reduction is conditioned on metric `val_acc` which is not available. Available metrics are: loss,accuracy,val_loss,val_accuracy,lr\n",
            "Epoch 45/100\n",
            "42/42 [==============================] - 2s 42ms/step - loss: 0.4128 - accuracy: 0.8168 - val_loss: 0.5913 - val_accuracy: 0.7167\n",
            "WARNING:tensorflow:Learning rate reduction is conditioned on metric `val_acc` which is not available. Available metrics are: loss,accuracy,val_loss,val_accuracy,lr\n",
            "Epoch 46/100\n",
            "42/42 [==============================] - 2s 43ms/step - loss: 0.3847 - accuracy: 0.8313 - val_loss: 0.8981 - val_accuracy: 0.6900\n",
            "WARNING:tensorflow:Learning rate reduction is conditioned on metric `val_acc` which is not available. Available metrics are: loss,accuracy,val_loss,val_accuracy,lr\n",
            "Epoch 47/100\n",
            "42/42 [==============================] - 2s 45ms/step - loss: 0.3804 - accuracy: 0.8337 - val_loss: 0.6360 - val_accuracy: 0.7467\n",
            "WARNING:tensorflow:Learning rate reduction is conditioned on metric `val_acc` which is not available. Available metrics are: loss,accuracy,val_loss,val_accuracy,lr\n",
            "Epoch 48/100\n",
            "42/42 [==============================] - 2s 42ms/step - loss: 0.3731 - accuracy: 0.8363 - val_loss: 0.6414 - val_accuracy: 0.7300\n",
            "WARNING:tensorflow:Learning rate reduction is conditioned on metric `val_acc` which is not available. Available metrics are: loss,accuracy,val_loss,val_accuracy,lr\n",
            "Epoch 49/100\n",
            "42/42 [==============================] - 2s 43ms/step - loss: 0.3948 - accuracy: 0.8222 - val_loss: 0.6602 - val_accuracy: 0.7167\n",
            "WARNING:tensorflow:Learning rate reduction is conditioned on metric `val_acc` which is not available. Available metrics are: loss,accuracy,val_loss,val_accuracy,lr\n",
            "Epoch 50/100\n",
            "42/42 [==============================] - 2s 43ms/step - loss: 0.3702 - accuracy: 0.8347 - val_loss: 0.6976 - val_accuracy: 0.7333\n",
            "WARNING:tensorflow:Learning rate reduction is conditioned on metric `val_acc` which is not available. Available metrics are: loss,accuracy,val_loss,val_accuracy,lr\n",
            "Epoch 51/100\n",
            "42/42 [==============================] - 2s 44ms/step - loss: 0.3740 - accuracy: 0.8391 - val_loss: 0.6897 - val_accuracy: 0.6967\n",
            "WARNING:tensorflow:Learning rate reduction is conditioned on metric `val_acc` which is not available. Available metrics are: loss,accuracy,val_loss,val_accuracy,lr\n",
            "Epoch 52/100\n",
            "42/42 [==============================] - 2s 43ms/step - loss: 0.3952 - accuracy: 0.8327 - val_loss: 0.5896 - val_accuracy: 0.7400\n",
            "WARNING:tensorflow:Learning rate reduction is conditioned on metric `val_acc` which is not available. Available metrics are: loss,accuracy,val_loss,val_accuracy,lr\n",
            "Epoch 53/100\n",
            "42/42 [==============================] - 2s 43ms/step - loss: 0.3793 - accuracy: 0.8513 - val_loss: 0.7246 - val_accuracy: 0.7100\n",
            "WARNING:tensorflow:Learning rate reduction is conditioned on metric `val_acc` which is not available. Available metrics are: loss,accuracy,val_loss,val_accuracy,lr\n",
            "Epoch 54/100\n",
            "42/42 [==============================] - 2s 44ms/step - loss: 0.3668 - accuracy: 0.8360 - val_loss: 0.7598 - val_accuracy: 0.7033\n",
            "WARNING:tensorflow:Learning rate reduction is conditioned on metric `val_acc` which is not available. Available metrics are: loss,accuracy,val_loss,val_accuracy,lr\n",
            "Epoch 55/100\n",
            "42/42 [==============================] - 2s 44ms/step - loss: 0.3401 - accuracy: 0.8444 - val_loss: 0.7289 - val_accuracy: 0.7267\n",
            "WARNING:tensorflow:Learning rate reduction is conditioned on metric `val_acc` which is not available. Available metrics are: loss,accuracy,val_loss,val_accuracy,lr\n",
            "Epoch 56/100\n",
            "42/42 [==============================] - 2s 48ms/step - loss: 0.3426 - accuracy: 0.8559 - val_loss: 0.7759 - val_accuracy: 0.7100\n",
            "WARNING:tensorflow:Learning rate reduction is conditioned on metric `val_acc` which is not available. Available metrics are: loss,accuracy,val_loss,val_accuracy,lr\n",
            "Epoch 57/100\n",
            "42/42 [==============================] - 2s 44ms/step - loss: 0.3429 - accuracy: 0.8429 - val_loss: 0.8473 - val_accuracy: 0.7000\n",
            "WARNING:tensorflow:Learning rate reduction is conditioned on metric `val_acc` which is not available. Available metrics are: loss,accuracy,val_loss,val_accuracy,lr\n",
            "Epoch 58/100\n",
            "42/42 [==============================] - 2s 43ms/step - loss: 0.3286 - accuracy: 0.8597 - val_loss: 0.6954 - val_accuracy: 0.7300\n",
            "WARNING:tensorflow:Learning rate reduction is conditioned on metric `val_acc` which is not available. Available metrics are: loss,accuracy,val_loss,val_accuracy,lr\n",
            "Epoch 59/100\n",
            "42/42 [==============================] - 2s 45ms/step - loss: 0.3448 - accuracy: 0.8414 - val_loss: 0.6820 - val_accuracy: 0.7267\n",
            "WARNING:tensorflow:Learning rate reduction is conditioned on metric `val_acc` which is not available. Available metrics are: loss,accuracy,val_loss,val_accuracy,lr\n",
            "Epoch 60/100\n",
            "42/42 [==============================] - 2s 45ms/step - loss: 0.3390 - accuracy: 0.8529 - val_loss: 0.7548 - val_accuracy: 0.7167\n",
            "WARNING:tensorflow:Learning rate reduction is conditioned on metric `val_acc` which is not available. Available metrics are: loss,accuracy,val_loss,val_accuracy,lr\n",
            "Epoch 61/100\n",
            "42/42 [==============================] - 2s 45ms/step - loss: 0.3397 - accuracy: 0.8508 - val_loss: 0.6735 - val_accuracy: 0.7467\n",
            "WARNING:tensorflow:Learning rate reduction is conditioned on metric `val_acc` which is not available. Available metrics are: loss,accuracy,val_loss,val_accuracy,lr\n",
            "Epoch 62/100\n",
            "42/42 [==============================] - 2s 43ms/step - loss: 0.3091 - accuracy: 0.8644 - val_loss: 0.6783 - val_accuracy: 0.6967\n",
            "WARNING:tensorflow:Learning rate reduction is conditioned on metric `val_acc` which is not available. Available metrics are: loss,accuracy,val_loss,val_accuracy,lr\n",
            "Epoch 63/100\n",
            "42/42 [==============================] - 2s 43ms/step - loss: 0.3046 - accuracy: 0.8654 - val_loss: 0.6226 - val_accuracy: 0.7467\n",
            "WARNING:tensorflow:Learning rate reduction is conditioned on metric `val_acc` which is not available. Available metrics are: loss,accuracy,val_loss,val_accuracy,lr\n",
            "Epoch 64/100\n",
            "42/42 [==============================] - 2s 44ms/step - loss: 0.3012 - accuracy: 0.8766 - val_loss: 0.7064 - val_accuracy: 0.7433\n",
            "WARNING:tensorflow:Learning rate reduction is conditioned on metric `val_acc` which is not available. Available metrics are: loss,accuracy,val_loss,val_accuracy,lr\n",
            "Epoch 65/100\n",
            "42/42 [==============================] - 2s 44ms/step - loss: 0.3118 - accuracy: 0.8678 - val_loss: 0.8669 - val_accuracy: 0.7300\n",
            "WARNING:tensorflow:Learning rate reduction is conditioned on metric `val_acc` which is not available. Available metrics are: loss,accuracy,val_loss,val_accuracy,lr\n",
            "Epoch 66/100\n",
            "42/42 [==============================] - 2s 43ms/step - loss: 0.3325 - accuracy: 0.8679 - val_loss: 0.6963 - val_accuracy: 0.7200\n",
            "WARNING:tensorflow:Learning rate reduction is conditioned on metric `val_acc` which is not available. Available metrics are: loss,accuracy,val_loss,val_accuracy,lr\n",
            "Epoch 67/100\n",
            "42/42 [==============================] - 2s 43ms/step - loss: 0.2800 - accuracy: 0.8849 - val_loss: 0.6959 - val_accuracy: 0.7333\n",
            "WARNING:tensorflow:Learning rate reduction is conditioned on metric `val_acc` which is not available. Available metrics are: loss,accuracy,val_loss,val_accuracy,lr\n",
            "Epoch 68/100\n",
            "42/42 [==============================] - 2s 43ms/step - loss: 0.2753 - accuracy: 0.8773 - val_loss: 0.7579 - val_accuracy: 0.7500\n",
            "WARNING:tensorflow:Learning rate reduction is conditioned on metric `val_acc` which is not available. Available metrics are: loss,accuracy,val_loss,val_accuracy,lr\n",
            "Epoch 69/100\n",
            "42/42 [==============================] - 2s 43ms/step - loss: 0.3525 - accuracy: 0.8408 - val_loss: 0.6192 - val_accuracy: 0.7533\n",
            "WARNING:tensorflow:Learning rate reduction is conditioned on metric `val_acc` which is not available. Available metrics are: loss,accuracy,val_loss,val_accuracy,lr\n",
            "Epoch 70/100\n",
            "42/42 [==============================] - 2s 43ms/step - loss: 0.2872 - accuracy: 0.8845 - val_loss: 0.6450 - val_accuracy: 0.7500\n",
            "WARNING:tensorflow:Learning rate reduction is conditioned on metric `val_acc` which is not available. Available metrics are: loss,accuracy,val_loss,val_accuracy,lr\n",
            "Epoch 71/100\n",
            "42/42 [==============================] - 2s 43ms/step - loss: 0.3070 - accuracy: 0.8723 - val_loss: 0.8282 - val_accuracy: 0.7433\n",
            "WARNING:tensorflow:Learning rate reduction is conditioned on metric `val_acc` which is not available. Available metrics are: loss,accuracy,val_loss,val_accuracy,lr\n",
            "Epoch 72/100\n",
            "42/42 [==============================] - 2s 43ms/step - loss: 0.2904 - accuracy: 0.8832 - val_loss: 0.7792 - val_accuracy: 0.7433\n",
            "WARNING:tensorflow:Learning rate reduction is conditioned on metric `val_acc` which is not available. Available metrics are: loss,accuracy,val_loss,val_accuracy,lr\n",
            "Epoch 73/100\n",
            "42/42 [==============================] - 2s 44ms/step - loss: 0.2750 - accuracy: 0.8848 - val_loss: 0.8471 - val_accuracy: 0.7600\n",
            "WARNING:tensorflow:Learning rate reduction is conditioned on metric `val_acc` which is not available. Available metrics are: loss,accuracy,val_loss,val_accuracy,lr\n",
            "Epoch 74/100\n",
            "42/42 [==============================] - 2s 43ms/step - loss: 0.2724 - accuracy: 0.8822 - val_loss: 0.6185 - val_accuracy: 0.7700\n",
            "WARNING:tensorflow:Learning rate reduction is conditioned on metric `val_acc` which is not available. Available metrics are: loss,accuracy,val_loss,val_accuracy,lr\n",
            "Epoch 75/100\n",
            "42/42 [==============================] - 2s 43ms/step - loss: 0.3219 - accuracy: 0.8686 - val_loss: 0.7553 - val_accuracy: 0.7567\n",
            "WARNING:tensorflow:Learning rate reduction is conditioned on metric `val_acc` which is not available. Available metrics are: loss,accuracy,val_loss,val_accuracy,lr\n",
            "Epoch 76/100\n",
            "42/42 [==============================] - 2s 43ms/step - loss: 0.2550 - accuracy: 0.8875 - val_loss: 0.9086 - val_accuracy: 0.7400\n",
            "WARNING:tensorflow:Learning rate reduction is conditioned on metric `val_acc` which is not available. Available metrics are: loss,accuracy,val_loss,val_accuracy,lr\n",
            "Epoch 77/100\n",
            "42/42 [==============================] - 2s 45ms/step - loss: 0.2546 - accuracy: 0.8989 - val_loss: 0.8108 - val_accuracy: 0.7567\n",
            "WARNING:tensorflow:Learning rate reduction is conditioned on metric `val_acc` which is not available. Available metrics are: loss,accuracy,val_loss,val_accuracy,lr\n",
            "Epoch 78/100\n",
            "42/42 [==============================] - 2s 44ms/step - loss: 0.2617 - accuracy: 0.8991 - val_loss: 0.7440 - val_accuracy: 0.7600\n",
            "WARNING:tensorflow:Learning rate reduction is conditioned on metric `val_acc` which is not available. Available metrics are: loss,accuracy,val_loss,val_accuracy,lr\n",
            "Epoch 79/100\n",
            "42/42 [==============================] - 2s 45ms/step - loss: 0.2596 - accuracy: 0.8877 - val_loss: 0.8722 - val_accuracy: 0.7267\n",
            "WARNING:tensorflow:Learning rate reduction is conditioned on metric `val_acc` which is not available. Available metrics are: loss,accuracy,val_loss,val_accuracy,lr\n",
            "Epoch 80/100\n",
            "42/42 [==============================] - 2s 44ms/step - loss: 0.2793 - accuracy: 0.8680 - val_loss: 0.6755 - val_accuracy: 0.7533\n",
            "WARNING:tensorflow:Learning rate reduction is conditioned on metric `val_acc` which is not available. Available metrics are: loss,accuracy,val_loss,val_accuracy,lr\n",
            "Epoch 81/100\n",
            "42/42 [==============================] - 2s 45ms/step - loss: 0.2551 - accuracy: 0.8951 - val_loss: 0.6885 - val_accuracy: 0.7733\n",
            "WARNING:tensorflow:Learning rate reduction is conditioned on metric `val_acc` which is not available. Available metrics are: loss,accuracy,val_loss,val_accuracy,lr\n",
            "Epoch 82/100\n",
            "42/42 [==============================] - 2s 44ms/step - loss: 0.2745 - accuracy: 0.8841 - val_loss: 0.8642 - val_accuracy: 0.7367\n",
            "WARNING:tensorflow:Learning rate reduction is conditioned on metric `val_acc` which is not available. Available metrics are: loss,accuracy,val_loss,val_accuracy,lr\n",
            "Epoch 83/100\n",
            "42/42 [==============================] - 2s 45ms/step - loss: 0.2560 - accuracy: 0.9043 - val_loss: 0.8375 - val_accuracy: 0.7500\n",
            "WARNING:tensorflow:Learning rate reduction is conditioned on metric `val_acc` which is not available. Available metrics are: loss,accuracy,val_loss,val_accuracy,lr\n",
            "Epoch 84/100\n",
            "42/42 [==============================] - 2s 44ms/step - loss: 0.2322 - accuracy: 0.9036 - val_loss: 0.8762 - val_accuracy: 0.7433\n",
            "WARNING:tensorflow:Learning rate reduction is conditioned on metric `val_acc` which is not available. Available metrics are: loss,accuracy,val_loss,val_accuracy,lr\n",
            "Epoch 85/100\n",
            "42/42 [==============================] - 2s 44ms/step - loss: 0.2403 - accuracy: 0.8989 - val_loss: 0.8895 - val_accuracy: 0.7467\n",
            "WARNING:tensorflow:Learning rate reduction is conditioned on metric `val_acc` which is not available. Available metrics are: loss,accuracy,val_loss,val_accuracy,lr\n",
            "Epoch 86/100\n",
            "42/42 [==============================] - 2s 44ms/step - loss: 0.2223 - accuracy: 0.9039 - val_loss: 0.6304 - val_accuracy: 0.7733\n",
            "WARNING:tensorflow:Learning rate reduction is conditioned on metric `val_acc` which is not available. Available metrics are: loss,accuracy,val_loss,val_accuracy,lr\n",
            "Epoch 87/100\n",
            "42/42 [==============================] - 2s 44ms/step - loss: 0.2199 - accuracy: 0.9170 - val_loss: 0.8096 - val_accuracy: 0.7467\n",
            "WARNING:tensorflow:Learning rate reduction is conditioned on metric `val_acc` which is not available. Available metrics are: loss,accuracy,val_loss,val_accuracy,lr\n",
            "Epoch 88/100\n",
            "42/42 [==============================] - 2s 44ms/step - loss: 0.2228 - accuracy: 0.9100 - val_loss: 0.7373 - val_accuracy: 0.7733\n",
            "WARNING:tensorflow:Learning rate reduction is conditioned on metric `val_acc` which is not available. Available metrics are: loss,accuracy,val_loss,val_accuracy,lr\n",
            "Epoch 89/100\n",
            "42/42 [==============================] - 2s 43ms/step - loss: 0.2446 - accuracy: 0.9033 - val_loss: 0.7879 - val_accuracy: 0.7300\n",
            "WARNING:tensorflow:Learning rate reduction is conditioned on metric `val_acc` which is not available. Available metrics are: loss,accuracy,val_loss,val_accuracy,lr\n",
            "Epoch 90/100\n",
            "42/42 [==============================] - 2s 45ms/step - loss: 0.2119 - accuracy: 0.9168 - val_loss: 0.7989 - val_accuracy: 0.7467\n",
            "WARNING:tensorflow:Learning rate reduction is conditioned on metric `val_acc` which is not available. Available metrics are: loss,accuracy,val_loss,val_accuracy,lr\n",
            "Epoch 91/100\n",
            "42/42 [==============================] - 2s 46ms/step - loss: 0.1982 - accuracy: 0.9249 - val_loss: 0.7619 - val_accuracy: 0.7367\n",
            "WARNING:tensorflow:Learning rate reduction is conditioned on metric `val_acc` which is not available. Available metrics are: loss,accuracy,val_loss,val_accuracy,lr\n",
            "Epoch 92/100\n",
            "42/42 [==============================] - 2s 45ms/step - loss: 0.2029 - accuracy: 0.9138 - val_loss: 0.7528 - val_accuracy: 0.7800\n",
            "WARNING:tensorflow:Learning rate reduction is conditioned on metric `val_acc` which is not available. Available metrics are: loss,accuracy,val_loss,val_accuracy,lr\n",
            "Epoch 93/100\n",
            "42/42 [==============================] - 2s 46ms/step - loss: 0.2249 - accuracy: 0.9116 - val_loss: 0.8847 - val_accuracy: 0.7267\n",
            "WARNING:tensorflow:Learning rate reduction is conditioned on metric `val_acc` which is not available. Available metrics are: loss,accuracy,val_loss,val_accuracy,lr\n",
            "Epoch 94/100\n",
            "42/42 [==============================] - 2s 46ms/step - loss: 0.2286 - accuracy: 0.9134 - val_loss: 0.7626 - val_accuracy: 0.7833\n",
            "WARNING:tensorflow:Learning rate reduction is conditioned on metric `val_acc` which is not available. Available metrics are: loss,accuracy,val_loss,val_accuracy,lr\n",
            "Epoch 95/100\n",
            "42/42 [==============================] - 2s 44ms/step - loss: 0.2055 - accuracy: 0.9195 - val_loss: 0.9412 - val_accuracy: 0.7633\n",
            "WARNING:tensorflow:Learning rate reduction is conditioned on metric `val_acc` which is not available. Available metrics are: loss,accuracy,val_loss,val_accuracy,lr\n",
            "Epoch 96/100\n",
            "42/42 [==============================] - 2s 45ms/step - loss: 0.2339 - accuracy: 0.9080 - val_loss: 0.7616 - val_accuracy: 0.7633\n",
            "WARNING:tensorflow:Learning rate reduction is conditioned on metric `val_acc` which is not available. Available metrics are: loss,accuracy,val_loss,val_accuracy,lr\n",
            "Epoch 97/100\n",
            "42/42 [==============================] - 2s 47ms/step - loss: 0.2067 - accuracy: 0.9205 - val_loss: 0.7862 - val_accuracy: 0.7500\n",
            "WARNING:tensorflow:Learning rate reduction is conditioned on metric `val_acc` which is not available. Available metrics are: loss,accuracy,val_loss,val_accuracy,lr\n",
            "Epoch 98/100\n",
            "42/42 [==============================] - 2s 44ms/step - loss: 0.2208 - accuracy: 0.9132 - val_loss: 0.7285 - val_accuracy: 0.7467\n",
            "WARNING:tensorflow:Learning rate reduction is conditioned on metric `val_acc` which is not available. Available metrics are: loss,accuracy,val_loss,val_accuracy,lr\n",
            "Epoch 99/100\n",
            "42/42 [==============================] - 2s 44ms/step - loss: 0.1977 - accuracy: 0.9256 - val_loss: 0.8118 - val_accuracy: 0.7767\n",
            "WARNING:tensorflow:Learning rate reduction is conditioned on metric `val_acc` which is not available. Available metrics are: loss,accuracy,val_loss,val_accuracy,lr\n",
            "Epoch 100/100\n",
            "42/42 [==============================] - 2s 43ms/step - loss: 0.1785 - accuracy: 0.9271 - val_loss: 0.9614 - val_accuracy: 0.7667\n",
            "WARNING:tensorflow:Learning rate reduction is conditioned on metric `val_acc` which is not available. Available metrics are: loss,accuracy,val_loss,val_accuracy,lr\n"
          ],
          "name": "stdout"
        }
      ]
    },
    {
      "cell_type": "markdown",
      "metadata": {
        "id": "Zs9Mv8WqPs-R"
      },
      "source": [
        "### Plotting Loss and Accuracy"
      ]
    },
    {
      "cell_type": "code",
      "metadata": {
        "id": "a-m0VEjVPs-T",
        "colab": {
          "base_uri": "https://localhost:8080/",
          "height": 265
        },
        "outputId": "be02bbe3-b83a-4834-ab16-41dab8967c09"
      },
      "source": [
        "fig, ax = plt.subplots(2,1)\n",
        "ax[0].plot(history.history['loss'], color='b', label=\"Training loss\")\n",
        "ax[0].plot(history.history['val_loss'], color='r', label=\"Validation loss\",axes =ax[0])\n",
        "ax[0].grid(color='black', linestyle='-', linewidth=0.25)\n",
        "legend = ax[0].legend(loc='best', shadow=True)\n",
        "\n",
        "ax[1].plot(history.history['accuracy'], color='b', label=\"Training accuracy\")\n",
        "ax[1].plot(history.history['val_accuracy'], color='r',label=\"Validation accuracy\")\n",
        "ax[1].grid(color='black', linestyle='-', linewidth=0.25)\n",
        "legend = ax[1].legend(loc='best', shadow=True)"
      ],
      "execution_count": null,
      "outputs": [
        {
          "output_type": "display_data",
          "data": {
            "image/png": "[encoded data removed]",
            "text/plain": [
              "<Figure size 432x288 with 2 Axes>"
            ]
          },
          "metadata": {
            "tags": [],
            "needs_background": "light"
          }
        }
      ]
    },
    {
      "cell_type": "markdown",
      "metadata": {
        "id": "XpFj8OmsPs-X"
      },
      "source": [
        "### Plotting Confusion Matrix"
      ]
    },
    {
      "cell_type": "code",
      "metadata": {
        "id": "JppKOnVIgjf0"
      },
      "source": [
        "from sklearn.metrics import confusion_matrix\n",
        "import itertools"
      ],
      "execution_count": null,
      "outputs": []
    },
    {
      "cell_type": "code",
      "metadata": {
        "id": "xJw5qkL1gjiu"
      },
      "source": [
        "def plot_confusion_matrix(cm, classes, normalize=False, title='Confusion matrix', cmap=plt.cm.Blues):\n",
        "    \"\"\"\n",
        "    This function prints and plots the confusion matrix.\n",
        "    Normalization can be applied by setting `normalize=True`.\n",
        "    \"\"\"\n",
        "    plt.imshow(cm, interpolation='nearest', cmap=cmap)\n",
        "    plt.title(title)\n",
        "    plt.colorbar()\n",
        "    tick_marks = np.arange(len(classes))\n",
        "    plt.xticks(tick_marks, classes, rotation=45)\n",
        "    plt.yticks(tick_marks, classes)\n",
        "\n",
        "    if normalize:\n",
        "        cm = cm.astype('float') / cm.sum(axis=1)[:, np.newaxis]\n",
        "\n",
        "    thresh = cm.max() / 2.\n",
        "    for i, j in itertools.product(range(cm.shape[0]), range(cm.shape[1])):\n",
        "        plt.text(j, i, cm[i, j],\n",
        "                 horizontalalignment=\"center\",\n",
        "                 color=\"white\" if cm[i, j] > thresh else \"black\")\n",
        "\n",
        "    plt.tight_layout()\n",
        "    plt.ylabel('True label')\n",
        "    plt.xlabel('Predicted label')"
      ],
      "execution_count": null,
      "outputs": []
    },
    {
      "cell_type": "code",
      "metadata": {
        "id": "CuBqWVWAgjnW"
      },
      "source": [
        "# Predict the values from the validation dataset\n",
        "ypred_onehot = model.predict(xval)"
      ],
      "execution_count": null,
      "outputs": []
    },
    {
      "cell_type": "code",
      "metadata": {
        "id": "BDaoSmFFgqWy"
      },
      "source": [
        "# Convert predictions classes from one hot vectors to labels: [0 0 1 0 0 ...] --> 2\n",
        "ypred = np.argmax(ypred_onehot, axis=1)"
      ],
      "execution_count": null,
      "outputs": []
    },
    {
      "cell_type": "code",
      "metadata": {
        "id": "PZp5bUDAgrOJ"
      },
      "source": [
        "# Convert validation observations from one hot vectors to labels\n",
        "ytrue = np.argmax(yval, axis=1)"
      ],
      "execution_count": null,
      "outputs": []
    },
    {
      "cell_type": "code",
      "metadata": {
        "id": "1r_IdZCXgrRA"
      },
      "source": [
        "# Compute the confusion matrix\n",
        "confusion_mtx = confusion_matrix(ytrue, ypred)"
      ],
      "execution_count": null,
      "outputs": []
    },
    {
      "cell_type": "code",
      "metadata": {
        "colab": {
          "base_uri": "https://localhost:8080/"
        },
        "id": "c7d6Rt_2ljOD",
        "outputId": "2fb56001-d34e-4957-e2f5-ea9d791b91f4"
      },
      "source": [
        "confusion_mtx"
      ],
      "execution_count": null,
      "outputs": [
        {
          "output_type": "execute_result",
          "data": {
            "text/plain": [
              "array([[59, 21, 11],\n",
              "       [27, 76, 11],\n",
              "       [ 0,  0, 95]])"
            ]
          },
          "metadata": {
            "tags": []
          },
          "execution_count": 80
        }
      ]
    },
    {
      "cell_type": "code",
      "metadata": {
        "id": "01uJnJikPs-Y",
        "colab": {
          "base_uri": "https://localhost:8080/",
          "height": 311
        },
        "outputId": "1a72d786-fe58-4f2b-9e74-2678c14a7e21"
      },
      "source": [
        "# Plot the confusion matrix\n",
        "plot_confusion_matrix(confusion_mtx, classes=range(nclasses))"
      ],
      "execution_count": null,
      "outputs": [
        {
          "output_type": "display_data",
          "data": {
            "image/png": "[encoded data removed]",
            "text/plain": [
              "<Figure size 432x288 with 2 Axes>"
            ]
          },
          "metadata": {
            "tags": [],
            "needs_background": "light"
          }
        }
      ]
    },
    {
      "cell_type": "markdown",
      "metadata": {
        "id": "wW3y2Y66Ps-b"
      },
      "source": [
        "### Plot Errors"
      ]
    },
    {
      "cell_type": "code",
      "metadata": {
        "id": "YkIrpmMXgxEc"
      },
      "source": [
        "errors = (ypred - ytrue != 0)"
      ],
      "execution_count": null,
      "outputs": []
    },
    {
      "cell_type": "code",
      "metadata": {
        "id": "fN6eh9nAgxHG"
      },
      "source": [
        "ypred_er = ypred_onehot[errors]\n",
        "ypred_classes_er = ypred[errors]\n",
        "ytrue_er = ytrue[errors]\n",
        "xval_er = xval[errors]"
      ],
      "execution_count": null,
      "outputs": []
    },
    {
      "cell_type": "code",
      "metadata": {
        "id": "G66RrpZcg1Sj"
      },
      "source": [
        "def display_errors(errors_index, img_errors, pred_errors, obs_errors):\n",
        "    \"\"\" This function shows 6 images with their predicted and real labels\"\"\"\n",
        "    n = 0\n",
        "    nrows = 2\n",
        "    ncols = 3\n",
        "    fig, ax = plt.subplots(nrows, ncols, sharex=True, sharey=True)\n",
        "    for row in range(nrows):\n",
        "        for col in range(ncols):\n",
        "            error = errors_index[n]\n",
        "            ax[row,col].imshow((img_errors[error]).reshape((64, 64)), cmap=plt.cm.gray)\n",
        "            ax[row,col].set_title(\"Predicted label :{}\\nTrue label :{}\".format(pred_errors[error],obs_errors[error]))\n",
        "            plt.subplots_adjust(bottom = 0.001)\n",
        "            n += 1"
      ],
      "execution_count": null,
      "outputs": []
    },
    {
      "cell_type": "code",
      "metadata": {
        "id": "_-hP_bRQg1Xa"
      },
      "source": [
        "# Probabilities of the wrong predicted numbers\n",
        "ypred_er_prob = np.max(ypred_er,axis=1)"
      ],
      "execution_count": null,
      "outputs": []
    },
    {
      "cell_type": "code",
      "metadata": {
        "id": "pCqTgJVag1Vr"
      },
      "source": [
        "# Predicted probabilities of the true values in the error set\n",
        "true_prob_er = np.diagonal(np.take(ypred_er, ytrue_er, axis=1))"
      ],
      "execution_count": null,
      "outputs": []
    },
    {
      "cell_type": "code",
      "metadata": {
        "id": "THplAT7Yg4Lb"
      },
      "source": [
        "# Difference between the probability of the predicted label and the true label\n",
        "delta_pred_true_er = ypred_er_prob - true_prob_er"
      ],
      "execution_count": null,
      "outputs": []
    },
    {
      "cell_type": "code",
      "metadata": {
        "id": "L24xWDyyg4QW"
      },
      "source": [
        "# Sorted list of the delta prob errors\n",
        "sorted_delta_er = np.argsort(delta_pred_true_er)"
      ],
      "execution_count": null,
      "outputs": []
    },
    {
      "cell_type": "code",
      "metadata": {
        "id": "rPmxfa01g4TG"
      },
      "source": [
        "# Top 6 errors. You can change the range to see other images\n",
        "most_important_er = sorted_delta_er[-6:]"
      ],
      "execution_count": null,
      "outputs": []
    },
    {
      "cell_type": "code",
      "metadata": {
        "id": "WqopPjMLPs-c",
        "colab": {
          "base_uri": "https://localhost:8080/",
          "height": 315
        },
        "outputId": "bcb6cf22-d98e-45a8-a351-6f2ca6c6f04b"
      },
      "source": [
        "# Show the top 6 errors\n",
        "display_errors(most_important_er, xval_er, ypred_classes_er, ytrue_er)"
      ],
      "execution_count": null,
      "outputs": [
        {
          "output_type": "display_data",
          "data": {
            "image/png": "[encoded data removed]",
            "text/plain": [
              "<Figure size 432x288 with 6 Axes>"
            ]
          },
          "metadata": {
            "tags": [],
            "needs_background": "light"
          }
        }
      ]
    }
  ]
}